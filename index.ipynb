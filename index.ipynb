{
 "cells": [
  {
   "cell_type": "markdown",
   "metadata": {
    "nbpresent": {
     "id": "a882044f-e4bf-4bf0-8ca9-b470dd347e8d"
    }
   },
   "source": [
    "# Exploring Data _with_<br/> <span class=\"jupytermoji\"></span> Widgets"
   ]
  },
  {
   "cell_type": "markdown",
   "metadata": {
    "nbpresent": {
     "id": "3889f27a-8c92-408c-b720-bb9e295df3a3"
    }
   },
   "source": [
    "<div style=\"width: 600px; height: 110rem; background-position: 35%; background-size: cover; background-image:url(./assets/humboldt-profile-chimborazo-1829.jpg)\"></div>"
   ]
  },
  {
   "cell_type": "markdown",
   "metadata": {
    "nbpresent": {
     "id": "5485b472-f71d-4eb9-b299-be7f675259da"
    }
   },
   "source": [
    "## [Nick Bollweg](https://github.com/bollwyvl) <br/> _[Project Jupyter](https://jupyter.org)_"
   ]
  },
  {
   "cell_type": "code",
   "execution_count": 370,
   "metadata": {
    "collapsed": false
   },
   "outputs": [],
   "source": [
    "from ipywidgets import FloatSlider\n",
    "x = FloatSlider()\n",
    "x"
   ]
  },
  {
   "cell_type": "code",
   "execution_count": 371,
   "metadata": {
    "collapsed": true,
    "nbpresent": {
     "id": "c964c1ea-ae8d-41f3-a952-e55cc5283dff"
    }
   },
   "outputs": [],
   "source": [
    "import numpy as np\n",
    "from ipywidgets import Button, HBox\n",
    "from bqplot import OrdinalScale, LinearScale, Axis, Figure, Bars, Scatter\n",
    "from traitlets import link"
   ]
  },
  {
   "cell_type": "markdown",
   "metadata": {
    "nbpresent": {
     "id": "ea979e83-6e36-4edd-b157-cde5f05b253e"
    }
   },
   "source": [
    "## Who am I talking to?"
   ]
  },
  {
   "cell_type": "code",
   "execution_count": 372,
   "metadata": {
    "collapsed": true
   },
   "outputs": [],
   "source": [
    "languages = sorted([\"Python\", \"R\", \"Julia\", \"Haskell\", \"Scala\", \"JavaScript\"])"
   ]
  },
  {
   "cell_type": "code",
   "execution_count": 373,
   "metadata": {
    "collapsed": true
   },
   "outputs": [],
   "source": [
    "plot_args = dict(\n",
    "    min_width=700,\n",
    "    min_height=750,\n",
    "    animation_duration=200,\n",
    "    padding_x=0\n",
    ")\n",
    "axis_args = dict(\n",
    "    label_color=\"white\",\n",
    "    color=\"white\",\n",
    "    grid_lines='solid',\n",
    ")"
   ]
  },
  {
   "cell_type": "code",
   "execution_count": 374,
   "metadata": {
    "collapsed": false,
    "nbpresent": {
     "id": "1c6b7128-5db3-463f-a031-936458c45ccf"
    }
   },
   "outputs": [],
   "source": [
    "sc_x1 = OrdinalScale()\n",
    "sc_y1 = LinearScale()\n",
    "\n",
    "bar_x = Axis(label='Language',\n",
    "             scale=sc_x1,\n",
    "             margin=100,\n",
    "             **axis_args)\n",
    "\n",
    "bar_y = Axis(label='PyDataATLiens',\n",
    "             scale=sc_y1,\n",
    "             orientation='vertical',\n",
    "             tick_format='0.0f',\n",
    "             label_offset=\"1rem\",\n",
    "             **axis_args)\n",
    "\n",
    "bar_chart = Bars(x=languages,\n",
    "                 y=np.zeros(len(languages)),\n",
    "                 scales={'x': sc_x1, 'y': sc_y1})\n",
    "\n",
    "fig = Figure(axes=[bar_x, bar_y],\n",
    "             marks=[bar_chart],\n",
    "             **plot_args)\n",
    "fig"
   ]
  },
  {
   "cell_type": "code",
   "execution_count": 375,
   "metadata": {
    "collapsed": false,
    "nbpresent": {
     "id": "fb8b7633-5ad6-4eca-b9de-40ca19ea7cb4"
    }
   },
   "outputs": [],
   "source": [
    "def language_button(args):\n",
    "    i, language = args\n",
    "    button = Button(description=language, button_style=\"success\", height=\"6rem\")\n",
    "\n",
    "    @button.on_click\n",
    "    def lang_clicked(x):\n",
    "        bar_chart.y[i] += 1\n",
    "        bar_chart.send_state()\n",
    "        scatter_chart.send_state()\n",
    "    \n",
    "    return button\n",
    "HBox(children=tuple(map(language_button, enumerate(languages))))"
   ]
  },
  {
   "cell_type": "code",
   "execution_count": 376,
   "metadata": {
    "collapsed": true,
    "nbpresent": {
     "id": "24cbf790-427c-474e-b524-61bb26c0dd64"
    }
   },
   "outputs": [],
   "source": [
    "scatter_chart = Scatter(\n",
    "    x=languages,\n",
    "    y=np.zeros(len(languages)),\n",
    "    scales={'x': sc_x1, 'y': sc_y1})\n",
    "\n",
    "fig2 = Figure(axes=[bar_x, bar_y],\n",
    "              marks=[scatter_chart],\n",
    "              **plot_args)\n",
    "fig2"
   ]
  },
  {
   "cell_type": "code",
   "execution_count": 377,
   "metadata": {
    "collapsed": false
   },
   "outputs": [
    {
     "data": {
      "text/plain": [
       "<traitlets.traitlets.link at 0x10e136668>"
      ]
     },
     "execution_count": 377,
     "metadata": {},
     "output_type": "execute_result"
    }
   ],
   "source": [
    "link((scatter_chart, \"x\"), (bar_chart, \"x\"))\n",
    "link((scatter_chart, \"y\"), (bar_chart, \"y\"))"
   ]
  },
  {
   "cell_type": "markdown",
   "metadata": {
    "nbpresent": {
     "id": "de272c46-9546-43cb-a92f-a2a918c2123f"
    }
   },
   "source": [
    "## Asimov's Other Law?"
   ]
  },
  {
   "cell_type": "markdown",
   "metadata": {
    "nbpresent": {
     "id": "b6a864b9-2f17-49c7-872f-f528b07d81a4"
    }
   },
   "source": [
    "> _For every new good idea you have, there are a hundred, **ten thousand foolish ones**, which you naturally do not care to display._\n",
    "\n",
    "### Isaac Asimov — _[On Creativity](https://www.technologyreview.com/s/531911/isaac-asimov-asks-how-do-people-get-new-ideas/) (1959)_"
   ]
  },
  {
   "cell_type": "markdown",
   "metadata": {
    "nbpresent": {
     "id": "57684231-da47-493f-88eb-4b9e06643e52"
    }
   },
   "source": [
    "## What are <span class=\"jupytermoji\"></span> Widgets?"
   ]
  },
  {
   "cell_type": "markdown",
   "metadata": {
    "nbpresent": {
     "id": "c093a46f-5cb8-4425-bac7-22535623edf8"
    }
   },
   "source": [
    "...an official open source **Jupyter** project (BSD-Licensed)\n",
    "\n",
    "...**data-driven** building blocks for tying together backend **computing** with front-end **interactivity**\n",
    "\n",
    "...a general-purpose **reactive** computing environment, implementing the **observerable** pattern"
   ]
  },
  {
   "cell_type": "markdown",
   "metadata": {
    "nbpresent": {
     "id": "ff888d17-a10e-4635-98ea-e8325bcf9399"
    }
   },
   "source": [
    "## How do I get <span class=\"jupytermoji\"></span> Widgets?"
   ]
  },
  {
   "cell_type": "markdown",
   "metadata": {
    "nbpresent": {
     "id": "00bd22c0-26d2-4d79-84fa-85c9388095d9"
    }
   },
   "source": [
    "```shell\n",
    "conda install ipywidgets\n",
    "```\n",
    "<p style=\"text-align: center;\">or</p>\n",
    "```shell\n",
    "pip install ipywidgets\n",
    "```"
   ]
  },
  {
   "cell_type": "markdown",
   "metadata": {
    "nbpresent": {
     "id": "cd5b08d1-33f6-4a6d-a2f1-c8b86093e87f"
    }
   },
   "source": [
    "## `interact`, the gateway drug of widgets"
   ]
  },
  {
   "cell_type": "code",
   "execution_count": 378,
   "metadata": {
    "collapsed": false,
    "nbpresent": {
     "id": "38557c5e-26a9-4d0c-84dd-5937ad2f9077"
    }
   },
   "outputs": [
    {
     "name": "stdout",
     "output_type": "stream",
     "text": [
      "If I eat 5 cookies, I consume 1250 calories\n"
     ]
    }
   ],
   "source": [
    "from ipywidgets import interact\n",
    "calories_per_cookie = 200\n",
    "\n",
    "@interact\n",
    "def cookies(num_cookies=(0, 10),\n",
    "            calories_per_cookie=(0, 500)):\n",
    "    print(\n",
    "        \"If I eat {} cookies, \"\n",
    "        \"I consume {} calories\".format(\n",
    "        num_cookies,\n",
    "        num_cookies * calories_per_cookie\n",
    "    ))"
   ]
  },
  {
   "cell_type": "code",
   "execution_count": 379,
   "metadata": {
    "collapsed": false,
    "nbpresent": {
     "id": "123ee2df-e395-4282-8f5b-ec01c01f97a8"
    }
   },
   "outputs": [],
   "source": [
    "from ipywidgets import IntSlider\n",
    "x = IntSlider()\n",
    "x"
   ]
  },
  {
   "cell_type": "code",
   "execution_count": 380,
   "metadata": {
    "collapsed": false,
    "nbpresent": {
     "id": "e30e7da0-db2f-4d5d-9783-536714e4f27f"
    }
   },
   "outputs": [],
   "source": [
    "#x.value = 12\n",
    "#x.step = 5\n",
    "#x.max = 20\n",
    "\n",
    "@x.observe\n",
    "def x_changed(change):\n",
    "    print(x.value)"
   ]
  },
  {
   "cell_type": "markdown",
   "metadata": {},
   "source": [
    "# What kinds of data do <span class=\"jupytermoji\"></span> Widgets work with?"
   ]
  },
  {
   "cell_type": "markdown",
   "metadata": {
    "nbpresent": {
     "id": "7272679b-5d9d-4d2e-bb47-066b858d6d82"
    }
   },
   "source": [
    "## The Regulars: Numbers, Strings, Lists... and Widgets"
   ]
  },
  {
   "cell_type": "code",
   "execution_count": 381,
   "metadata": {
    "collapsed": true
   },
   "outputs": [],
   "source": [
    "from ipywidgets import FloatProgress, FloatSlider, FloatText, Text, Textarea, HTML, Dropdown, Select\n",
    "from traitlets import link, dlink"
   ]
  },
  {
   "cell_type": "code",
   "execution_count": 382,
   "metadata": {
    "collapsed": true,
    "nbpresent": {
     "id": "d2db8fd4-5203-4b98-b68a-eb0a83dbb32b"
    }
   },
   "outputs": [],
   "source": [
    "float_progress = FloatProgress(description=\"FloatProgress\", min=-1, max=1)\n",
    "float_progress"
   ]
  },
  {
   "cell_type": "code",
   "execution_count": 383,
   "metadata": {
    "collapsed": false,
    "nbpresent": {
     "id": "00f74bdb-d943-4848-8b21-51539e1d7f1a"
    }
   },
   "outputs": [],
   "source": [
    "float_slider = FloatSlider(description=\"FloatSlider\")\n",
    "float_slider"
   ]
  },
  {
   "cell_type": "code",
   "execution_count": 384,
   "metadata": {
    "collapsed": true,
    "nbpresent": {
     "id": "953deecc-ec4d-41dd-93dc-354e1131d5c4"
    }
   },
   "outputs": [],
   "source": [
    "float_text = FloatText(description=\"FloatText\")\n",
    "float_text"
   ]
  },
  {
   "cell_type": "markdown",
   "metadata": {
    "nbpresent": {
     "id": "f9b71edb-babd-4902-830f-ce602a79f07e"
    }
   },
   "source": [
    "### the `value` traits are _link_ ed (one with a transfer function)"
   ]
  },
  {
   "cell_type": "code",
   "execution_count": 385,
   "metadata": {
    "collapsed": false
   },
   "outputs": [
    {
     "data": {
      "text/plain": [
       "<traitlets.traitlets.directional_link at 0x10e152f98>"
      ]
     },
     "execution_count": 385,
     "metadata": {},
     "output_type": "execute_result"
    }
   ],
   "source": [
    "import math\n",
    "dlink((float_slider, \"value\"), (float_progress, \"value\"), math.sin)\n",
    "dlink((float_progress, \"value\"), (float_text, \"value\"), lambda x: x**2)"
   ]
  },
  {
   "cell_type": "code",
   "execution_count": 386,
   "metadata": {
    "collapsed": false,
    "nbpresent": {
     "id": "4ab4eca0-77ad-4b74-b8ef-564a00658bc8"
    }
   },
   "outputs": [],
   "source": [
    "text = Text(description=\"Text\")\n",
    "text"
   ]
  },
  {
   "cell_type": "code",
   "execution_count": 387,
   "metadata": {
    "collapsed": false,
    "nbpresent": {
     "id": "c66e9cc0-d3b1-4812-8b6d-62eeef2c9985"
    }
   },
   "outputs": [],
   "source": [
    "text_area = Textarea(description=\"TextArea\")\n",
    "text_area"
   ]
  },
  {
   "cell_type": "code",
   "execution_count": 388,
   "metadata": {
    "collapsed": true,
    "nbpresent": {
     "id": "014b736b-765c-4bbc-92e9-87ae4ca197a1"
    }
   },
   "outputs": [],
   "source": [
    "html = HTML(description=\"HTML\")\n",
    "html"
   ]
  },
  {
   "cell_type": "code",
   "execution_count": 389,
   "metadata": {
    "collapsed": false
   },
   "outputs": [
    {
     "data": {
      "text/plain": [
       "<traitlets.traitlets.directional_link at 0x10e15e6d8>"
      ]
     },
     "execution_count": 389,
     "metadata": {},
     "output_type": "execute_result"
    }
   ],
   "source": [
    "link((text, \"value\"), (text_area, \"value\"))\n",
    "dlink((text, \"value\"), (html, \"value\"), lambda x: x and \"<h1 style='float:left;'>{}</h1><h2>{}<h2>\".format(x[0], x[1:]))"
   ]
  },
  {
   "cell_type": "code",
   "execution_count": 390,
   "metadata": {
    "collapsed": true,
    "nbpresent": {
     "id": "b82ca187-6d63-465f-b5d7-7c5501706fcb"
    }
   },
   "outputs": [],
   "source": [
    "select = Select(description=\"Select\")\n",
    "select"
   ]
  },
  {
   "cell_type": "code",
   "execution_count": 391,
   "metadata": {
    "collapsed": false,
    "nbpresent": {
     "id": "48c0d8a1-1033-4486-95d6-8c44244c2cda"
    }
   },
   "outputs": [],
   "source": [
    "dropdown = Dropdown(description=\"Dropdown\")\n",
    "dropdown"
   ]
  },
  {
   "cell_type": "code",
   "execution_count": 392,
   "metadata": {
    "collapsed": false
   },
   "outputs": [
    {
     "data": {
      "text/plain": [
       "<traitlets.traitlets.directional_link at 0x10e15e630>"
      ]
     },
     "execution_count": 392,
     "metadata": {},
     "output_type": "execute_result"
    }
   ],
   "source": [
    "dlink((text, \"value\"), (select, \"options\"), lambda x: x.split())\n",
    "dlink((select, \"options\"), (dropdown, \"options\"), lambda x: list(reversed(x)))\n"
   ]
  },
  {
   "cell_type": "markdown",
   "metadata": {
    "nbpresent": {
     "id": "82825fe0-65c1-4d46-82b0-47802c1dc46a"
    }
   },
   "source": [
    "# How do <span class=\"jupytermoji\"></span> Widgets work?"
   ]
  },
  {
   "cell_type": "markdown",
   "metadata": {
    "collapsed": false,
    "nbpresent": {
     "id": "8e061b44-0b77-4160-a053-cd2d2341d2d8"
    }
   },
   "source": [
    "<img src=\"figures/widget_stack.svg?123\"/>"
   ]
  },
  {
   "cell_type": "markdown",
   "metadata": {
    "nbpresent": {
     "id": "a8891efd-20ad-4cf7-be64-78d33b8f1994"
    }
   },
   "source": [
    "## 2D Plots: [bqplot](https://github.com/bloomberg/bqplot)"
   ]
  },
  {
   "cell_type": "markdown",
   "metadata": {
    "collapsed": true,
    "nbpresent": {
     "id": "8c2cd05f-ea9d-42fd-aad6-e12c55e5a265"
    }
   },
   "source": [
    "## Maps: [ipyleaflet](https://github.com/ellisonbg/ipyleaflet)"
   ]
  },
  {
   "cell_type": "code",
   "execution_count": 393,
   "metadata": {
    "collapsed": true
   },
   "outputs": [],
   "source": [
    "from ipyleaflet import Map, Marker, DrawControl"
   ]
  },
  {
   "cell_type": "code",
   "execution_count": 394,
   "metadata": {
    "collapsed": false,
    "nbpresent": {
     "id": "695a1899-8452-4386-9e1e-272b40362854"
    }
   },
   "outputs": [],
   "source": [
    "general_assembly = [33.7725, -84.3665]\n",
    "m = Map(center=general_assembly, zoom=18)\n",
    "m"
   ]
  },
  {
   "cell_type": "code",
   "execution_count": 395,
   "metadata": {
    "collapsed": true
   },
   "outputs": [],
   "source": [
    "dc = DrawControl()\n",
    "\n",
    "@dc.on_draw\n",
    "def handle_draw(self, action, geo_json):\n",
    "    pas\n",
    "\n",
    "m += dc"
   ]
  },
  {
   "cell_type": "code",
   "execution_count": 396,
   "metadata": {
    "collapsed": false,
    "nbpresent": {
     "id": "d9028420-e453-495c-85d2-fd847e453338"
    }
   },
   "outputs": [],
   "source": [
    "where_are_we = Button(description=\"Where?\", button_style=\"success\", height=\"6rem\")\n",
    "@where_are_we.on_click\n",
    "def mark_ga(_):\n",
    "    m.add_layer(Marker(location=general_assembly, draggable=True))\n",
    "where_are_we"
   ]
  },
  {
   "cell_type": "markdown",
   "metadata": {
    "nbpresent": {
     "id": "df0bb0f8-dbcf-42ae-8ca2-96752db550c5"
    }
   },
   "source": [
    "## Geometry: [pythreejs](https://github.com/jovyan/pythreejs)"
   ]
  },
  {
   "cell_type": "code",
   "execution_count": 397,
   "metadata": {
    "collapsed": false,
    "nbpresent": {
     "id": "d3914797-03a2-4145-aff0-be879ef16c96"
    }
   },
   "outputs": [],
   "source": [
    "import pythreejs as p3j\n",
    "\n",
    "ball = p3j.Mesh(\n",
    "    geometry=p3j.SphereGeometry(radius=1), \n",
    "    material=p3j.LambertMaterial(color='orange'),\n",
    "    position=[2, 1, 0])\n",
    "\n",
    "scene = p3j.Scene(\n",
    "    children=[ball, p3j.AmbientLight(color='#777777')])\n",
    "\n",
    "c = p3j.PerspectiveCamera(\n",
    "    position=[0, 5, 5],\n",
    "    up=[0, 0, 1],\n",
    "    children=[p3j.DirectionalLight(color='white', \n",
    "                                   position=[3, 5, 1], \n",
    "                                   intensity=0.5)])\n",
    "p3j.Renderer(\n",
    "    camera=c, \n",
    "    scene=scene, \n",
    "    controls=[p3j.OrbitControls(controlling=c)])"
   ]
  },
  {
   "cell_type": "markdown",
   "metadata": {
    "nbpresent": {
     "id": "45f03f63-fa79-4c6a-b4bc-4bec7521188c"
    }
   },
   "source": [
    "## Kata: Scroll a big DataFrame"
   ]
  },
  {
   "cell_type": "code",
   "execution_count": 398,
   "metadata": {
    "collapsed": false,
    "nbpresent": {
     "id": "1ba8e2fe-9a48-4abd-b677-b060486711aa"
    }
   },
   "outputs": [],
   "source": [
    "import pandas as pd\n",
    "from ipywidgets import IntSlider, VBox, HTML\n",
    "\n",
    "page_size = 12\n",
    "df = pd.DataFrame.from_dict({\"value\": range(100000)})\n",
    "\n",
    "slider = IntSlider(description=\"page\",\n",
    "                   max=len(df) / page_size,\n",
    "                   width=\"100%\")\n",
    "frame_view = HTML()\n",
    "\n",
    "@slider.observe\n",
    "def slider_changed(x):\n",
    "    v = slider.value * page_size\n",
    "    frame_view.value = df[v:v + page_size].to_html(\n",
    "        classes=\"table table-condensed table-striped\")\n",
    "slider.value = 1\n",
    "VBox(children=[slider, frame_view])"
   ]
  },
  {
   "cell_type": "markdown",
   "metadata": {
    "nbpresent": {
     "id": "ece86840-9efb-4773-9b25-2fd93e8c54ac"
    }
   },
   "source": [
    "## Kata: MVDubs (Minimum Viable Widget)"
   ]
  },
  {
   "cell_type": "code",
   "execution_count": 399,
   "metadata": {
    "collapsed": false,
    "nbpresent": {
     "id": "1e208dcb-295e-4a24-9544-6f6259991348"
    }
   },
   "outputs": [
    {
     "data": {
      "application/javascript": [
       "requirejs.undef(\"mvdubs\")\n",
       "define(\"mvdubs\", [\"jupyter-js-widgets\"], function(widget){\n",
       "    return {\n",
       "        MVDubView: widget.DOMWidgetView.extend({\n",
       "            className: \"widget-mvdubs\",\n",
       "            render: function(){ this.update(); },\n",
       "            update: function(){\n",
       "                this.el.innerHTML = this.model.get(\"value\");\n",
       "            }\n",
       "        })\n",
       "    }\n",
       "})"
      ],
      "text/plain": [
       "<IPython.core.display.Javascript object>"
      ]
     },
     "metadata": {},
     "output_type": "display_data"
    }
   ],
   "source": [
    "%%javascript\n",
    "requirejs.undef(\"mvdubs\")\n",
    "define(\"mvdubs\", [\"jupyter-js-widgets\"], function(widget){\n",
    "    return {\n",
    "        MVDubView: widget.DOMWidgetView.extend({\n",
    "            className: \"widget-mvdubs\",\n",
    "            render: function(){ this.update(); },\n",
    "            update: function(){\n",
    "                this.el.innerHTML = this.model.get(\"value\");\n",
    "            }\n",
    "        })\n",
    "    }\n",
    "})"
   ]
  },
  {
   "cell_type": "code",
   "execution_count": 400,
   "metadata": {
    "collapsed": false,
    "nbpresent": {
     "id": "6a7607cd-7b57-4be5-a9fb-c6ed1043da5c"
    }
   },
   "outputs": [],
   "source": [
    "from ipywidgets import DOMWidget\n",
    "import traitlets\n",
    "class MVDubs(DOMWidget):\n",
    "    _view_module = traitlets.Unicode(\"mvdubs\").tag(sync=True)\n",
    "    _view_name = traitlets.Unicode(\"MVDubView\").tag(sync=True)\n",
    "    value = traitlets.Unicode(\"value\").tag(sync=True)"
   ]
  },
  {
   "cell_type": "code",
   "execution_count": 401,
   "metadata": {
    "collapsed": false,
    "nbpresent": {
     "id": "17f0793f-efdb-4344-90ca-196bdd63faea"
    }
   },
   "outputs": [
    {
     "data": {
      "text/html": [
       "<style>\n",
       ".widget-mvdubs {\n",
       "    background-color: #f00;\n",
       "}\n",
       "</style>"
      ],
      "text/plain": [
       "<IPython.core.display.HTML object>"
      ]
     },
     "metadata": {},
     "output_type": "display_data"
    }
   ],
   "source": [
    "%%html\n",
    "<style>\n",
    ".widget-mvdubs {\n",
    "    background-color: #f00;\n",
    "}\n",
    "</style>"
   ]
  },
  {
   "cell_type": "code",
   "execution_count": 402,
   "metadata": {
    "collapsed": true,
    "nbpresent": {
     "id": "7f2cb512-d82f-4a98-aa27-7c6951cee440"
    }
   },
   "outputs": [],
   "source": [
    "mvw = MVDubs(value=\"buddy\")\n",
    "mvw"
   ]
  },
  {
   "cell_type": "code",
   "execution_count": 403,
   "metadata": {
    "collapsed": true,
    "nbpresent": {
     "id": "6a0c169a-f73c-416a-8b69-9b12d0d39c85"
    }
   },
   "outputs": [],
   "source": [
    "mvw.value = \"yeah\""
   ]
  },
  {
   "cell_type": "markdown",
   "metadata": {
    "nbpresent": {
     "id": "892488b5-cec8-4852-8359-6bfc80b3b403"
    }
   },
   "source": [
    "## More Widget Tools"
   ]
  },
  {
   "cell_type": "markdown",
   "metadata": {
    "nbpresent": {
     "id": "e6c9a5e5-a4a0-48bc-a939-529b5c4b2116"
    }
   },
   "source": [
    "- Want to make a real 📦?\n",
    "  - [widget-cookiecutter](https://github.com/jupyter/widget-cookiecutter)\n",
    "- Like 🐍, don't want to write as much ☕? \n",
    "  - [pyscript](http://flexx.readthedocs.io/en/stable/pyscript/)\n",
    "- Want to see the 🚝?\n",
    "  - [jupyterlab](https://github.com/jupyter/jupyterlab)\n",
    "  <pre>conda install -c conda-forge jupyterlab</pre>"
   ]
  },
  {
   "cell_type": "code",
   "execution_count": 404,
   "metadata": {
    "collapsed": false
   },
   "outputs": [
    {
     "data": {
      "text/html": [
       "<style>\n",
       "    svg.bqplot .plotarea_background {\n",
       "        fill: white;\n",
       "        opacity: 0.1;\n",
       "    }\n",
       "    .widget-button{\n",
       "        font-size: 3rem;\n",
       "    }\n",
       "    svg.bqplot .axis text.axislabel,\n",
       "    svg.bqplot .axis tspan.axislabel,\n",
       "    svg.bqplot .axis .tick text{\n",
       "        font-family: \"Josefin Slab\";\n",
       "        font-size: 2.5rem;\n",
       "    }\n",
       "    svg.bqplot .axis .tick text{\n",
       "        font-size: 1.5rem;\n",
       "    }\n",
       "    #notebook svg.bqplot .stick, svg.bqplot .zeroLine,\n",
       "    #notebook svg.bqplot .axis path,\n",
       "    #notebook svg.bqplot .axis line {\n",
       "        opacity: 0.2;\n",
       "    }\n",
       "    \n",
       "    .jupytermoji {\n",
       "        background-image: url(./assets/main-logo.svg);\n",
       "        display: inline-block;\n",
       "        width: 1.5em;\n",
       "        height: 1.5em;\n",
       "        background-size: contain;\n",
       "        background-repeat: no-repeat;\n",
       "        vertical-align: middle;\n",
       "    }\n",
       "    \n",
       "    .nbp-present td,\n",
       "    .nbp-present th,\n",
       "    .nbp-present .widget-label,\n",
       "    .nbp-present .widget-readout{\n",
       "        font-size: 3rem;\n",
       "    }\n",
       "    .nbp-present .table-striped > tbody > tr:nth-of-type(odd) {\n",
       "        background-color: #000;\n",
       "    }\n",
       "    .widget-hslider{\n",
       "        width: auto;\n",
       "    }\n",
       "    \n",
       "    .nbp-present .output_area pre {\n",
       "        color: white;\n",
       "    }\n",
       "    .nbp-present .widget-hbox .widget-label {\n",
       "        max-width: none;\n",
       "        min-width: auto;\n",
       "        width: auto;\n",
       "        font-size: 3rem;\n",
       "    }\n",
       "    \n",
       "    .nbp-present .form-control {\n",
       "        font-size: 3rem;\n",
       "    }\n",
       "</style>"
      ],
      "text/plain": [
       "<IPython.core.display.HTML object>"
      ]
     },
     "metadata": {},
     "output_type": "display_data"
    }
   ],
   "source": [
    "%%html\n",
    "<style>\n",
    "    svg.bqplot .plotarea_background {\n",
    "        fill: white;\n",
    "        opacity: 0.1;\n",
    "    }\n",
    "    .widget-button{\n",
    "        font-size: 3rem;\n",
    "    }\n",
    "    svg.bqplot .axis text.axislabel,\n",
    "    svg.bqplot .axis tspan.axislabel,\n",
    "    svg.bqplot .axis .tick text{\n",
    "        font-family: \"Josefin Slab\";\n",
    "        font-size: 2.5rem;\n",
    "    }\n",
    "    svg.bqplot .axis .tick text{\n",
    "        font-size: 1.5rem;\n",
    "    }\n",
    "    #notebook svg.bqplot .stick, svg.bqplot .zeroLine,\n",
    "    #notebook svg.bqplot .axis path,\n",
    "    #notebook svg.bqplot .axis line {\n",
    "        opacity: 0.2;\n",
    "    }\n",
    "    \n",
    "    .jupytermoji {\n",
    "        background-image: url(./assets/main-logo.svg);\n",
    "        display: inline-block;\n",
    "        width: 1.5em;\n",
    "        height: 1.5em;\n",
    "        background-size: contain;\n",
    "        background-repeat: no-repeat;\n",
    "        vertical-align: middle;\n",
    "    }\n",
    "    \n",
    "    .nbp-present td,\n",
    "    .nbp-present th,\n",
    "    .nbp-present .widget-label,\n",
    "    .nbp-present .widget-readout{\n",
    "        font-size: 3rem;\n",
    "    }\n",
    "    .nbp-present .table-striped > tbody > tr:nth-of-type(odd) {\n",
    "        background-color: #000;\n",
    "    }\n",
    "    .widget-hslider{\n",
    "        width: auto;\n",
    "    }\n",
    "    \n",
    "    .nbp-present .output_area pre {\n",
    "        color: white;\n",
    "    }\n",
    "    .nbp-present .widget-hbox .widget-label {\n",
    "        max-width: none;\n",
    "        min-width: auto;\n",
    "        width: auto;\n",
    "        font-size: 3rem;\n",
    "    }\n",
    "    \n",
    "    .nbp-present .form-control {\n",
    "        font-size: 3rem;\n",
    "    }\n",
    "</style>"
   ]
  },
  {
   "cell_type": "code",
   "execution_count": null,
   "metadata": {
    "collapsed": true
   },
   "outputs": [],
   "source": []
  }
 ],
 "metadata": {
  "kernelspec": {
   "display_name": "Python 3",
   "language": "python",
   "name": "python3"
  },
  "language_info": {
   "codemirror_mode": {
    "name": "ipython",
    "version": 3
   },
   "file_extension": ".py",
   "mimetype": "text/x-python",
   "name": "python",
   "nbconvert_exporter": "python",
   "pygments_lexer": "ipython3",
   "version": "3.5.2"
  },
  "nbpresent": {
   "slides": {
    "11a28649-5333-49fa-a968-0300e53f002c": {
     "id": "11a28649-5333-49fa-a968-0300e53f002c",
     "layout": "grid",
     "prev": "slide-kata-scroll",
     "regions": {
      "0902593f-5c57-405b-9c33-db53292970fd": {
       "attrs": {
        "height": 0.3333333333333333,
        "pad": 0.01,
        "treemap:weight": 1,
        "width": 0.5833333333333334,
        "x": 0.3333333333333333,
        "y": 0.08333333333333333
       },
       "content": {
        "cell": "1e208dcb-295e-4a24-9544-6f6259991348",
        "part": "source"
       },
       "id": "0902593f-5c57-405b-9c33-db53292970fd"
      },
      "2d74e207-3941-466e-97df-85a69dc34b8c": {
       "attrs": {
        "height": 0.16666666666666666,
        "pad": 0.01,
        "treemap:weight": 1,
        "width": 0.25,
        "x": 0.3323353293413174,
        "y": 0.7499445553337769
       },
       "content": {
        "cell": "7f2cb512-d82f-4a98-aa27-7c6951cee440",
        "part": "source"
       },
       "id": "2d74e207-3941-466e-97df-85a69dc34b8c"
      },
      "2fecc539-a9a3-4282-a16b-6b54993ad623": {
       "attrs": {
        "height": 0.4166666666666667,
        "pad": 0.01,
        "treemap:weight": 1,
        "width": 0.25,
        "x": 0,
        "y": 0.08333333333333333
       },
       "content": {
        "cell": "7f2cb512-d82f-4a98-aa27-7c6951cee440",
        "part": "widgets"
       },
       "id": "2fecc539-a9a3-4282-a16b-6b54993ad623"
      },
      "5bbf3225-5035-4d82-b5d6-592eee4c27ab": {
       "attrs": {
        "height": 0.08333333333333333,
        "pad": 0.01,
        "treemap:weight": 1,
        "width": 1,
        "x": 0.000998003992015968,
        "y": 0
       },
       "content": {
        "cell": "ece86840-9efb-4773-9b25-2fd93e8c54ac",
        "part": "source"
       },
       "id": "5bbf3225-5035-4d82-b5d6-592eee4c27ab"
      },
      "66e961db-fb32-4103-86cb-923e09aa827c": {
       "attrs": {
        "height": 0.3333333333333333,
        "pad": 0.01,
        "width": 0.25,
        "x": 0,
        "y": 0.5833333333333334
       },
       "content": {
        "cell": "17f0793f-efdb-4344-90ca-196bdd63faea",
        "part": "source"
       },
       "id": "66e961db-fb32-4103-86cb-923e09aa827c"
      },
      "9c28fe20-c84a-41d8-a3f2-a5900971b4fe": {
       "attrs": {
        "height": 0.16666666666666666,
        "pad": 0.01,
        "width": 0.25,
        "x": 0.6666666666666666,
        "y": 0.75
       },
       "content": {
        "cell": "6a0c169a-f73c-416a-8b69-9b12d0d39c85",
        "part": "source"
       },
       "id": "9c28fe20-c84a-41d8-a3f2-a5900971b4fe"
      },
      "cb78d962-1f96-467e-b3e3-0c9ef702c699": {
       "attrs": {
        "height": 0.25,
        "pad": 0.01,
        "treemap:weight": 1,
        "width": 0.5833333333333334,
        "x": 0.3333333333333333,
        "y": 0.4166666666666667
       },
       "content": {
        "cell": "6a7607cd-7b57-4be5-a9fb-c6ed1043da5c",
        "part": "source"
       },
       "id": "cb78d962-1f96-467e-b3e3-0c9ef702c699"
      }
     }
    },
    "6b7a8f66-b2ea-4aae-96e2-b78ecf9d2c06": {
     "id": "6b7a8f66-b2ea-4aae-96e2-b78ecf9d2c06",
     "layout": "grid",
     "prev": "11a28649-5333-49fa-a968-0300e53f002c",
     "regions": {
      "06a77245-3ab3-48cf-b415-0d0dc7fdc939": {
       "attrs": {
        "height": 0.16666666666666666,
        "pad": 0.01,
        "width": 1,
        "x": 0,
        "y": 0
       },
       "content": {
        "cell": "892488b5-cec8-4852-8359-6bfc80b3b403",
        "part": "source"
       },
       "id": "06a77245-3ab3-48cf-b415-0d0dc7fdc939"
      },
      "efe3a3d0-5d9e-4337-86c6-ad7faca7c77f": {
       "attrs": {
        "height": 0.6666666666666666,
        "pad": 0.01,
        "width": 1,
        "x": 0,
        "y": 0.25
       },
       "content": {
        "cell": "e6c9a5e5-a4a0-48bc-a939-529b5c4b2116",
        "part": "source"
       },
       "id": "efe3a3d0-5d9e-4337-86c6-ad7faca7c77f"
      }
     }
    },
    "slide-all-the-floats": {
     "id": "slide-all-the-floats",
     "layout": "grid",
     "prev": "slide-interact",
     "regions": {
      "10dd87ac-32d3-402f-9644-97377a5bc6e5": {
       "attrs": {
        "height": 0.08333333333333333,
        "pad": 0.01,
        "width": 0.3333333333333333,
        "x": 0.6666666666666666,
        "y": 0.4166666666666667
       },
       "content": {
        "cell": "014b736b-765c-4bbc-92e9-87ae4ca197a1",
        "part": "widgets"
       },
       "id": "10dd87ac-32d3-402f-9644-97377a5bc6e5"
      },
      "152c3dfc-9490-48c7-8e06-53e57f6d3ab7": {
       "attrs": {
        "height": 0.08333333333333333,
        "pad": 0.01,
        "treemap:weight": 1,
        "width": 0.3333333333333333,
        "x": 0,
        "y": 0.16666666666666666
       },
       "content": {
        "cell": "953deecc-ec4d-41dd-93dc-354e1131d5c4",
        "part": "widgets"
       },
       "id": "152c3dfc-9490-48c7-8e06-53e57f6d3ab7"
      },
      "18c224cc-4aeb-497f-bc06-e1d8f256e542": {
       "attrs": {
        "height": 0.16666666666666666,
        "pad": 0.01,
        "width": 0.4166666666666667,
        "x": 0.16666666666666666,
        "y": 0.6666666666666666
       },
       "content": {
        "cell": "48c0d8a1-1033-4486-95d6-8c44244c2cda",
        "part": "widgets"
       },
       "id": "18c224cc-4aeb-497f-bc06-e1d8f256e542"
      },
      "2a7930f8-cc87-4f77-b43a-b7c71891a876": {
       "attrs": {
        "height": 0.08333333333333333,
        "pad": 0.01,
        "treemap:weight": 1,
        "width": 0.3333333333333333,
        "x": 0.6666666666666666,
        "y": 0.16666666666666666
       },
       "content": {
        "cell": "d2db8fd4-5203-4b98-b68a-eb0a83dbb32b",
        "part": "widgets"
       },
       "id": "2a7930f8-cc87-4f77-b43a-b7c71891a876"
      },
      "567a0ce7-f724-4a9b-9a1c-13d84557c59b": {
       "attrs": {
        "height": 0.25,
        "pad": 0.01,
        "width": 0.4166666666666667,
        "x": 0.25,
        "y": 0.4166666666666667
       },
       "content": {
        "cell": "c66e9cc0-d3b1-4812-8b6d-62eeef2c9985",
        "part": "widgets"
       },
       "id": "567a0ce7-f724-4a9b-9a1c-13d84557c59b"
      },
      "835046d5-4a73-459d-978d-e55422dc2869": {
       "attrs": {
        "height": 0.08333333333333333,
        "pad": 0.01,
        "width": 0.25,
        "x": 0.000998003992015968,
        "y": 0.4166666666666667
       },
       "content": {
        "cell": "4ab4eca0-77ad-4b74-b8ef-564a00658bc8",
        "part": "widgets"
       },
       "id": "835046d5-4a73-459d-978d-e55422dc2869"
      },
      "b95feacd-deaf-400b-8e3e-c73d6bf86e77": {
       "attrs": {
        "height": 0.08333333333333333,
        "pad": 0.01,
        "width": 0.8333333333333334,
        "x": 0,
        "y": -5.5444666223109334e-05
       },
       "content": {
        "cell": "7272679b-5d9d-4d2e-bb47-066b858d6d82",
        "part": "source"
       },
       "id": "b95feacd-deaf-400b-8e3e-c73d6bf86e77"
      },
      "e0bd4fed-9d9b-4bf2-835f-364f7a978be0": {
       "attrs": {
        "height": 0.25,
        "pad": 0.01,
        "width": 0.3333333333333333,
        "x": 0.5833333333333334,
        "y": 0.6666666666666666
       },
       "content": {
        "cell": "b82ca187-6d63-465f-b5d7-7c5501706fcb",
        "part": "widgets"
       },
       "id": "e0bd4fed-9d9b-4bf2-835f-364f7a978be0"
      },
      "ece494ed-f66f-49e1-abd3-db907334ef53": {
       "attrs": {
        "height": 0.08333333333333333,
        "pad": 0.01,
        "treemap:weight": 1,
        "width": 0.3333333333333333,
        "x": 0.3343313373253493,
        "y": 0.16666666666666666
       },
       "content": {
        "cell": "00f74bdb-d943-4848-8b21-51539e1d7f1a",
        "part": "widgets"
       },
       "id": "ece494ed-f66f-49e1-abd3-db907334ef53"
      }
     }
    },
    "slide-blueprint-3": {
     "id": "slide-blueprint-3",
     "prev": "slide-float-slider-basic",
     "regions": {
      "bd279458-3901-4e5d-a64d-1f4359e8267e": {
       "attrs": {
        "height": 1,
        "width": 1,
        "x": 0,
        "y": 0
       },
       "content": {
        "cell": "8e061b44-0b77-4160-a053-cd2d2341d2d8",
        "part": "source"
       },
       "id": "bd279458-3901-4e5d-a64d-1f4359e8267e"
      }
     }
    },
    "slide-bqplot": {
     "id": "slide-bqplot",
     "layout": "grid",
     "prev": "slide-blueprint-3",
     "regions": {
      "5600babc-bb02-472a-a0bb-26faa38e008e": {
       "attrs": {
        "height": 0.9166666666666666,
        "pad": 0.01,
        "width": 0.5,
        "x": 0,
        "y": 0.08333333333333333
       },
       "content": {
        "cell": "24cbf790-427c-474e-b524-61bb26c0dd64",
        "part": "widgets"
       },
       "id": "5600babc-bb02-472a-a0bb-26faa38e008e"
      },
      "8e3023c7-3c55-4d18-8049-8d8f39d689d4": {
       "attrs": {
        "height": 0.16666666666666666,
        "pad": 0.01,
        "width": 0.5,
        "x": 0.5,
        "y": 0.8333333333333334
       },
       "content": {
        "cell": "1c6b7128-5db3-463f-a031-936458c45ccf",
        "part": "outputs"
       },
       "id": "8e3023c7-3c55-4d18-8049-8d8f39d689d4"
      },
      "9e6e025f-afeb-46f0-a204-0d8eb6daedd9": {
       "attrs": {
        "height": 0.8333333333333334,
        "pad": 0.01,
        "width": 0.5,
        "x": 0.4999890459081836,
        "y": 0
       },
       "content": {
        "cell": "24cbf790-427c-474e-b524-61bb26c0dd64",
        "part": "source"
       },
       "id": "9e6e025f-afeb-46f0-a204-0d8eb6daedd9"
      },
      "f641341d-7299-4d65-89fa-a45f8ed325be": {
       "attrs": {
        "height": 0.08333333333333333,
        "pad": 0.01,
        "width": 0.8333333333333334,
        "x": 0,
        "y": 0
       },
       "content": {
        "cell": "a8891efd-20ad-4cf7-be64-78d33b8f1994",
        "part": "source"
       },
       "id": "f641341d-7299-4d65-89fa-a45f8ed325be"
      }
     },
     "theme": null
    },
    "slide-float-slider-basic": {
     "id": "slide-float-slider-basic",
     "layout": "grid",
     "prev": "slide-how-work-2",
     "regions": {
      "1aa8dcdb-2c1c-494a-b4cf-41d1c980079c": {
       "attrs": {
        "height": 0.16666666666666666,
        "pad": 0.01,
        "treemap:weight": 1,
        "width": 0.5,
        "x": 0.5,
        "y": 0
       },
       "content": {
        "cell": "123ee2df-e395-4282-8f5b-ec01c01f97a8",
        "part": "source"
       },
       "id": "1aa8dcdb-2c1c-494a-b4cf-41d1c980079c"
      },
      "3c6d0883-6c2a-42bd-93e9-2f873656d3ff": {
       "attrs": {
        "height": 0.3333333333333333,
        "pad": 0.01,
        "width": 0.5,
        "x": 0.5,
        "y": 0.4166666666666667
       },
       "content": {
        "cell": "e30e7da0-db2f-4d5d-9783-536714e4f27f",
        "part": "source"
       },
       "id": "3c6d0883-6c2a-42bd-93e9-2f873656d3ff"
      },
      "7f81ff17-8540-4c55-9fd8-85d5175ac024": {
       "attrs": {
        "height": 0.16666666666666666,
        "pad": 0.01,
        "width": 0.499500998003992,
        "x": 0.5,
        "y": 0.8333333333333334
       },
       "content": {
        "cell": "123ee2df-e395-4282-8f5b-ec01c01f97a8",
        "part": "outputs"
       },
       "id": "7f81ff17-8540-4c55-9fd8-85d5175ac024"
      },
      "a1d9137d-e1e1-473a-9745-d8f444a4eb0d": {
       "attrs": {
        "height": 1,
        "pad": 0.01,
        "treemap:weight": 1,
        "width": 0.4166666666666667,
        "x": 0.08333333333333333,
        "y": 0
       },
       "content": {
        "cell": "123ee2df-e395-4282-8f5b-ec01c01f97a8",
        "part": "widgets"
       },
       "id": "a1d9137d-e1e1-473a-9745-d8f444a4eb0d"
      },
      "f66bb9c8-6b4a-4a0c-ab29-6cb5fb11cdb4": {
       "attrs": {
        "height": 0.25,
        "pad": 0.01,
        "width": 0.5,
        "x": 0.5,
        "y": 0.16666666666666666
       },
       "content": {
        "cell": "123ee2df-e395-4282-8f5b-ec01c01f97a8",
        "part": "outputs"
       },
       "id": "f66bb9c8-6b4a-4a0c-ab29-6cb5fb11cdb4"
      }
     }
    },
    "slide-get-widgets": {
     "id": "slide-get-widgets",
     "layout": "grid",
     "prev": "slide-what-are-widgets",
     "regions": {
      "14d8fc58-aa66-474b-9756-43d911d6c563": {
       "attrs": {
        "height": 0.16666666666666666,
        "pad": 0.01,
        "treemap:weight": 1,
        "width": 0.5,
        "x": 0,
        "y": 0
       },
       "content": {
        "cell": "ff888d17-a10e-4635-98ea-e8325bcf9399",
        "part": "source"
       },
       "id": "14d8fc58-aa66-474b-9756-43d911d6c563"
      },
      "e6e708c5-a3ed-4c12-9b9a-e247a9783e9d": {
       "attrs": {
        "height": 0.4166666666666667,
        "pad": 0.01,
        "treemap:weight": 1,
        "width": 0.3328343313373254,
        "x": 0.3333333333333333,
        "y": 0.3333333333333333
       },
       "content": {
        "cell": "00bd22c0-26d2-4d79-84fa-85c9388095d9",
        "part": "source"
       },
       "id": "e6e708c5-a3ed-4c12-9b9a-e247a9783e9d"
      }
     }
    },
    "slide-how-work-2": {
     "id": "slide-how-work-2",
     "layout": "grid",
     "prev": "slide-all-the-floats",
     "regions": {
      "c0ef5296-9f89-40d6-970f-35f65796e556": {
       "attrs": {
        "height": 0.25,
        "pad": 0.01,
        "width": 0.8333333333333334,
        "x": 0.08333333333333333,
        "y": 0.3333333333333333
       },
       "content": {
        "cell": "82825fe0-65c1-4d46-82b0-47802c1dc46a",
        "part": "source"
       },
       "id": "c0ef5296-9f89-40d6-970f-35f65796e556"
      }
     }
    },
    "slide-interact": {
     "id": "slide-interact",
     "layout": "grid",
     "prev": "slide-get-widgets",
     "regions": {
      "106f073e-d6e5-47a2-ae00-72ad2a59f6c9": {
       "attrs": {
        "height": 0.16666666666666666,
        "pad": 0.01,
        "width": 0.4166666666666667,
        "x": 0.5,
        "y": 0.75
       },
       "content": {
        "cell": "38557c5e-26a9-4d0c-84dd-5937ad2f9077",
        "part": "widgets"
       },
       "id": "106f073e-d6e5-47a2-ae00-72ad2a59f6c9"
      },
      "c14bfb79-b218-42f1-9f71-27214503f330": {
       "attrs": {
        "height": 0.8333333333333334,
        "pad": 0.01,
        "width": 0.4166666666666667,
        "x": 0,
        "y": 0.16666666666666666
       },
       "content": {
        "cell": "38557c5e-26a9-4d0c-84dd-5937ad2f9077",
        "part": "source"
       },
       "id": "c14bfb79-b218-42f1-9f71-27214503f330"
      },
      "d2e965a8-591c-4c73-8e37-73460a1ff00e": {
       "attrs": {
        "height": 0.5,
        "pad": 0.01,
        "width": 0.4166666666666667,
        "x": 0.5,
        "y": 0.16666666666666666
       },
       "content": {
        "cell": "38557c5e-26a9-4d0c-84dd-5937ad2f9077",
        "part": "outputs"
       },
       "id": "d2e965a8-591c-4c73-8e37-73460a1ff00e"
      },
      "e5eebbf6-c8c6-42ef-a320-6b4b29c04df1": {
       "attrs": {
        "height": 0.16666666666666666,
        "pad": 0.01,
        "width": 1,
        "x": 0,
        "y": 0
       },
       "content": {
        "cell": "cd5b08d1-33f6-4a6d-a2f1-c8b86093e87f",
        "part": "source"
       },
       "id": "e5eebbf6-c8c6-42ef-a320-6b4b29c04df1"
      }
     }
    },
    "slide-intro-0": {
     "id": "slide-intro-0",
     "layout": "grid",
     "prev": null,
     "regions": {
      "1bd09c73-d977-44c6-9e4a-b592640ed82f": {
       "attrs": {
        "height": 0.3333333333333333,
        "pad": 0.01,
        "width": 1,
        "x": 0.5833333333333334,
        "y": -0.08333333333333333
       },
       "content": {
        "cell": "3889f27a-8c92-408c-b720-bb9e295df3a3",
        "part": "source"
       },
       "id": "1bd09c73-d977-44c6-9e4a-b592640ed82f"
      },
      "68c986a3-5f41-4db8-85cf-303275433075": {
       "attrs": {
        "height": 0.4166666666666667,
        "pad": 0.01,
        "width": 0.5,
        "x": 0.08333333333333333,
        "y": 0.16655577733422045
       },
       "content": {
        "cell": "a882044f-e4bf-4bf0-8ca9-b470dd347e8d",
        "part": "source"
       },
       "id": "68c986a3-5f41-4db8-85cf-303275433075"
      },
      "6e281b1c-bafe-4c2a-91f1-c2e7a1f1ae4e": {
       "attrs": {
        "height": 0.08333333333333333,
        "pad": 0.01,
        "width": 0.8333333333333334,
        "x": 0.08233532934131736,
        "y": 0.75
       },
       "content": {
        "cell": "5485b472-f71d-4eb9-b299-be7f675259da",
        "part": "source"
       },
       "id": "6e281b1c-bafe-4c2a-91f1-c2e7a1f1ae4e"
      }
     }
    },
    "slide-ipyleaflet": {
     "id": "slide-ipyleaflet",
     "layout": "grid",
     "prev": "slide-bqplot",
     "regions": {
      "a3cdf29a-1f4c-416e-82e9-de75001cfc66": {
       "attrs": {
        "height": 0.8333333333333334,
        "pad": 0.01,
        "width": 1,
        "x": 0,
        "y": 0.16666666666666666
       },
       "content": {
        "cell": "695a1899-8452-4386-9e1e-272b40362854",
        "part": "widgets"
       },
       "id": "a3cdf29a-1f4c-416e-82e9-de75001cfc66"
      },
      "d2627534-b1b1-4e63-b413-12529f8096ab": {
       "attrs": {
        "height": 0.16666666666666666,
        "pad": 0.01,
        "width": 0.8333333333333334,
        "x": 0,
        "y": 0
       },
       "content": {
        "cell": "8c2cd05f-ea9d-42fd-aad6-e12c55e5a265",
        "part": "source"
       },
       "id": "d2627534-b1b1-4e63-b413-12529f8096ab"
      },
      "e5bc1b11-3b16-4b27-b779-957bb33971e8": {
       "attrs": {
        "height": 0.16666666666666666,
        "pad": 0.01,
        "width": 0.16666666666666666,
        "x": 0.75,
        "y": 0
       },
       "content": {
        "cell": "d9028420-e453-495c-85d2-fd847e453338",
        "part": "widgets"
       },
       "id": "e5bc1b11-3b16-4b27-b779-957bb33971e8"
      }
     }
    },
    "slide-isaac-1": {
     "id": "slide-isaac-1",
     "layout": "grid",
     "prev": "slide-who-are-you",
     "regions": {
      "2b5ef6e1-e69b-4ef0-9330-b0f07b5d54c2": {
       "attrs": {
        "height": 0.8333333333333334,
        "pad": 0.01,
        "width": 0.5833333333333334,
        "x": 0.16666666666666666,
        "y": 0.16666666666666666
       },
       "content": {
        "cell": "b6a864b9-2f17-49c7-872f-f528b07d81a4",
        "part": "source"
       },
       "id": "2b5ef6e1-e69b-4ef0-9330-b0f07b5d54c2"
      },
      "2ee45e70-8339-4b00-85c8-aa2b6854470b": {
       "attrs": {
        "height": 0.08333333333333333,
        "pad": 0.01,
        "width": 0.8333333333333334,
        "x": 0,
        "y": 0
       },
       "content": {
        "cell": "de272c46-9546-43cb-a92f-a2a918c2123f",
        "part": "source"
       },
       "id": "2ee45e70-8339-4b00-85c8-aa2b6854470b"
      }
     }
    },
    "slide-kata-scroll": {
     "id": "slide-kata-scroll",
     "layout": "grid",
     "prev": "slide-pythreejs",
     "regions": {
      "71594c76-29ee-4f6e-b0ae-c438e2cd93a6": {
       "attrs": {
        "height": 0.08333333333333333,
        "pad": 0.01,
        "width": 0.8333333333333334,
        "x": 0,
        "y": 0
       },
       "content": {
        "cell": "45f03f63-fa79-4c6a-b4bc-4bec7521188c",
        "part": "source"
       },
       "id": "71594c76-29ee-4f6e-b0ae-c438e2cd93a6"
      },
      "84cedd8c-4361-46ab-a99e-894e41eec124": {
       "attrs": {
        "height": 0.08333333333333333,
        "pad": 0.01,
        "width": 0.4166666666666667,
        "x": 0.5,
        "y": 0
       },
       "content": null,
       "id": "84cedd8c-4361-46ab-a99e-894e41eec124"
      },
      "c7b6fe30-57b1-4cd6-8f0a-b95c09927eee": {
       "attrs": {
        "height": 0.9166666666666666,
        "pad": 0.01,
        "width": 0.4166666666666667,
        "x": 0,
        "y": 0.08333333333333333
       },
       "content": {
        "cell": "1ba8e2fe-9a48-4abd-b677-b060486711aa",
        "part": "widgets"
       },
       "id": "c7b6fe30-57b1-4cd6-8f0a-b95c09927eee"
      },
      "e799f971-fb7a-4780-9459-9069c10b5c83": {
       "attrs": {
        "height": 0.9166666666666666,
        "pad": 0.01,
        "width": 0.5,
        "x": 0.5,
        "y": 0.08333333333333333
       },
       "content": {
        "cell": "1ba8e2fe-9a48-4abd-b677-b060486711aa",
        "part": "source"
       },
       "id": "e799f971-fb7a-4780-9459-9069c10b5c83"
      }
     },
     "theme": null
    },
    "slide-pythreejs": {
     "id": "slide-pythreejs",
     "layout": "grid",
     "prev": "slide-ipyleaflet",
     "regions": {
      "478579ef-4db7-410e-9b8b-6c3204cce794": {
       "attrs": {
        "height": 0.9166666666666666,
        "pad": 0.01,
        "width": 0.5,
        "x": 0.499001996007984,
        "y": 0.08333333333333333
       },
       "content": {
        "cell": "d3914797-03a2-4145-aff0-be879ef16c96",
        "part": "source"
       },
       "id": "478579ef-4db7-410e-9b8b-6c3204cce794"
      },
      "4823f78e-0b13-4e9e-a941-a9183a2bd027": {
       "attrs": {
        "height": 0.9166666666666666,
        "pad": 0.01,
        "width": 0.5,
        "x": 0,
        "y": 0.08333333333333333
       },
       "content": {
        "cell": "d3914797-03a2-4145-aff0-be879ef16c96",
        "part": "widgets"
       },
       "id": "4823f78e-0b13-4e9e-a941-a9183a2bd027"
      },
      "7d3664a7-ca9a-4cfe-9911-1d4112833678": {
       "attrs": {
        "height": 0.08333333333333333,
        "pad": 0.01,
        "width": 1,
        "x": -0.000997748502994012,
        "y": 0
       },
       "content": {
        "cell": "df0bb0f8-dbcf-42ae-8ca2-96752db550c5",
        "part": "source"
       },
       "id": "7d3664a7-ca9a-4cfe-9911-1d4112833678"
      }
     }
    },
    "slide-what-are-widgets": {
     "id": "slide-what-are-widgets",
     "layout": "grid",
     "prev": "slide-isaac-1",
     "regions": {
      "075dcd84-f0b0-4a04-8159-cfee9fb1caa6": {
       "attrs": {
        "height": 0.16666666666666666,
        "pad": 0.01,
        "width": 1,
        "x": 0,
        "y": 0
       },
       "content": {
        "cell": "57684231-da47-493f-88eb-4b9e06643e52",
        "part": "source"
       },
       "id": "075dcd84-f0b0-4a04-8159-cfee9fb1caa6"
      },
      "3b28a0e5-4dfb-4263-80f6-5942b651e7d4": {
       "attrs": {
        "height": 0.6666666666666666,
        "pad": 0.01,
        "width": 0.8333333333333334,
        "x": 0.08333333333333333,
        "y": 0.25
       },
       "content": {
        "cell": "c093a46f-5cb8-4425-bac7-22535623edf8",
        "part": "source"
       },
       "id": "3b28a0e5-4dfb-4263-80f6-5942b651e7d4"
      }
     }
    },
    "slide-who-are-you": {
     "id": "slide-who-are-you",
     "layout": "grid",
     "prev": "slide-intro-0",
     "regions": {
      "0db651cb-1f71-4c29-89e4-c530c176c8be": {
       "attrs": {
        "height": 0.9166666666666666,
        "pad": 0.01,
        "width": 0.5,
        "x": 0,
        "y": 0.08333333333333333
       },
       "content": {
        "cell": "1c6b7128-5db3-463f-a031-936458c45ccf",
        "part": "widgets"
       },
       "id": "0db651cb-1f71-4c29-89e4-c530c176c8be"
      },
      "4fae0c7a-895a-456c-8c73-1f4febd4cc0d": {
       "attrs": {
        "height": 0.08333333333333333,
        "pad": 0.01,
        "width": 0.4166666666666667,
        "x": 0.5,
        "y": 0
       },
       "content": {
        "cell": "fb8b7633-5ad6-4eca-b9de-40ca19ea7cb4",
        "part": "widgets"
       },
       "id": "4fae0c7a-895a-456c-8c73-1f4febd4cc0d"
      },
      "805b23de-1215-4fdb-b232-28e3f155d459": {
       "attrs": {
        "height": 0.9166666666666666,
        "pad": 0.01,
        "width": 0.5,
        "x": 0.5,
        "y": 0.08333333333333333
       },
       "content": {
        "cell": "24cbf790-427c-474e-b524-61bb26c0dd64",
        "part": "widgets"
       },
       "id": "805b23de-1215-4fdb-b232-28e3f155d459"
      },
      "cf6776f7-9788-4472-a2bd-a5a471ed3a93": {
       "attrs": {
        "height": 0.08333333333333333,
        "pad": 0.01,
        "width": 0.8333333333333334,
        "x": 0,
        "y": 0
       },
       "content": {
        "cell": "ea979e83-6e36-4edd-b157-cde5f05b253e",
        "part": "source"
       },
       "id": "cf6776f7-9788-4472-a2bd-a5a471ed3a93"
      }
     },
     "theme": null
    }
   },
   "themes": {
    "default": "f8e22b55-4ee8-4dd2-a736-da13bfa4cdfa",
    "theme": {
     "f8e22b55-4ee8-4dd2-a736-da13bfa4cdfa": {
      "backgrounds": {
       "backgroundColor": {
        "background-color": "backgroundColor",
        "id": "backgroundColor"
       }
      },
      "id": "f8e22b55-4ee8-4dd2-a736-da13bfa4cdfa",
      "palette": {
       "backgroundColor": {
        "id": "backgroundColor",
        "rgb": [
         43,
         43,
         43
        ]
       },
       "headingColor": {
        "id": "headingColor",
        "rgb": [
         238,
         238,
         238
        ]
       },
       "linkColor": {
        "id": "linkColor",
        "rgb": [
         19,
         218,
         236
        ]
       },
       "mainColor": {
        "id": "mainColor",
        "rgb": [
         238,
         238,
         238
        ]
       }
      },
      "rules": {
       "a": {
        "color": "linkColor",
        "font-family": "Josefin Slab"
       },
       "h1": {
        "color": "headingColor",
        "font-family": "Josefin Slab",
        "font-size": 10
       },
       "h2": {
        "color": "headingColor",
        "font-family": "Josefin Slab",
        "font-size": 5
       },
       "h3": {
        "color": "headingColor",
        "font-family": "Josefin Slab",
        "font-size": 3.75
       },
       "h4": {
        "font-family": "Inconsolata",
        "font-size": 2
       },
       "h5": {
        "color": "headingColor",
        "font-family": "Josefin Slab"
       },
       "h6": {
        "color": "headingColor",
        "font-family": "Josefin Slab"
       },
       "h7": {
        "color": "headingColor",
        "font-family": "Josefin Slab"
       },
       "li": {
        "color": "mainColor",
        "font-family": "Josefin Slab",
        "font-size": 5
       },
       "p": {
        "color": "mainColor",
        "font-family": "Josefin Slab",
        "font-size": 5
       },
       "pre": {
        "font-family": "Inconsolata",
        "font-size": 2.5
       }
      },
      "text-base": {
       "color": "mainColor",
       "font-family": "Josefin Slab",
       "font-size": 5
      }
     }
    }
   }
  },
  "widgets": {
   "state": {
    "26ed3ee3617b4ba5988e904525ee951d": {
     "views": [
      {
       "cell_index": 19
      }
     ]
    },
    "31f65a86c98c43ff89e4175ceef02111": {
     "views": [
      {
       "cell_index": 19
      }
     ]
    },
    "32f7e6d7251c47c38bb7a24a62342534": {
     "views": [
      {
       "cell_index": 20
      }
     ]
    },
    "3c7db4d58f4f48ffa20571d5be8730e3": {
     "views": [
      {
       "cell_index": 9
      }
     ]
    },
    "405e30142f064dd3ac0014b07bb24d5f": {
     "views": [
      {
       "cell_index": 41
      }
     ]
    },
    "4277fa5a6d0f44e8941ac8e241787bc4": {
     "views": [
      {
       "cell_index": 3
      }
     ]
    },
    "4e551dc54c09424f89cb473b7217bf1b": {
     "views": [
      {
       "cell_index": 25
      }
     ]
    },
    "6b8c5cfa35d84ec892c44a20f8e9df5a": {
     "views": [
      {
       "cell_index": 27
      }
     ]
    },
    "78819a3d3cb24284b436a0ab6b2f5ee8": {
     "views": [
      {
       "cell_index": 30
      }
     ]
    },
    "81cbd593fc7c41fb91a72fba326ba0de": {
     "views": [
      {
       "cell_index": 26
      }
     ]
    },
    "8e41fb445e24415dad45f2a4ea895fee": {
     "views": [
      {
       "cell_index": 8
      }
     ]
    },
    "8ee3be54311341d89f6a81d3b98d92c5": {
     "views": [
      {
       "cell_index": 17
      }
     ]
    },
    "95324d03fd674feda321ef18ad6d5dee": {
     "views": [
      {
       "cell_index": 38
      }
     ]
    },
    "9b0458d0494f409a9ada44dfb8e990c9": {
     "views": [
      {
       "cell_index": 39
      }
     ]
    },
    "b8d24f6e65c645feb387aaed082859d5": {
     "views": [
      {
       "cell_index": 37
      }
     ]
    },
    "c340a3e38b524347ac08bcb79d4a9e0c": {
     "views": [
      {
       "cell_index": 35
      }
     ]
    },
    "d82792c971d34b869c8b86f4fdee84be": {
     "views": [
      {
       "cell_index": 45
      }
     ]
    },
    "de222a8100a74ce1a165304ae00ebb59": {
     "views": [
      {
       "cell_index": 10
      }
     ]
    }
   },
   "version": "1.2.0"
  }
 },
 "nbformat": 4,
 "nbformat_minor": 0
}
