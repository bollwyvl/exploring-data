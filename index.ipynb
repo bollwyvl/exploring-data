{
 "cells": [
  {
   "cell_type": "markdown",
   "metadata": {
    "nbpresent": {
     "id": "a882044f-e4bf-4bf0-8ca9-b470dd347e8d"
    }
   },
   "source": [
    "# Exploring Data _with_<br/> <span class=\"jupytermoji\"></span> Widgets"
   ]
  },
  {
   "cell_type": "markdown",
   "metadata": {
    "nbpresent": {
     "id": "3889f27a-8c92-408c-b720-bb9e295df3a3"
    }
   },
   "source": [
    "<div style=\"width: 600px; height: 110rem; background-position: 35%; background-size: cover; background-image:url(./assets/humboldt-profile-chimborazo-1829.jpg)\"></div>"
   ]
  },
  {
   "cell_type": "markdown",
   "metadata": {
    "nbpresent": {
     "id": "2559e8ad-d5a8-4d94-b383-01089e57b65e"
    }
   },
   "source": []
  },
  {
   "cell_type": "markdown",
   "metadata": {
    "nbpresent": {
     "id": "5485b472-f71d-4eb9-b299-be7f675259da"
    }
   },
   "source": [
    "## [Nick Bollweg](https://github.com/bollwyvl) <br/> _[Continuum Analytics](https://continuum.io)_"
   ]
  },
  {
   "cell_type": "code",
   "execution_count": null,
   "metadata": {
    "collapsed": false
   },
   "outputs": [],
   "source": [
    "from ipywidgets import FloatSlider\n",
    "x = FloatSlider()\n",
    "x"
   ]
  },
  {
   "cell_type": "code",
   "execution_count": null,
   "metadata": {
    "collapsed": true,
    "nbpresent": {
     "id": "c964c1ea-ae8d-41f3-a952-e55cc5283dff"
    }
   },
   "outputs": [],
   "source": [
    "import numpy as np\n",
    "from ipywidgets import Button, HBox\n",
    "from bqplot import OrdinalScale, LinearScale, Axis, Figure, Bars, Scatter\n",
    "from traitlets import link"
   ]
  },
  {
   "cell_type": "markdown",
   "metadata": {
    "nbpresent": {
     "id": "ea979e83-6e36-4edd-b157-cde5f05b253e"
    }
   },
   "source": [
    "## Who am I talking to?"
   ]
  },
  {
   "cell_type": "code",
   "execution_count": null,
   "metadata": {
    "collapsed": true
   },
   "outputs": [],
   "source": [
    "languages = sorted([\"Python\", \"R\", \"Julia\", \"Haskell\", \"Scala\", \"JavaScript\"])"
   ]
  },
  {
   "cell_type": "code",
   "execution_count": null,
   "metadata": {
    "collapsed": true
   },
   "outputs": [],
   "source": [
    "plot_args = dict(\n",
    "    min_width=700,\n",
    "    min_height=750,\n",
    "    animation_duration=200,\n",
    "    padding_x=0\n",
    ")\n",
    "axis_args = dict(\n",
    "    label_color=\"white\",\n",
    "    color=\"white\",\n",
    "    grid_lines='solid',\n",
    ")"
   ]
  },
  {
   "cell_type": "code",
   "execution_count": null,
   "metadata": {
    "collapsed": false,
    "nbpresent": {
     "id": "1c6b7128-5db3-463f-a031-936458c45ccf"
    }
   },
   "outputs": [],
   "source": [
    "sc_x1 = OrdinalScale()\n",
    "sc_y1 = LinearScale()\n",
    "\n",
    "bar_x = Axis(label='Language',\n",
    "             scale=sc_x1,\n",
    "             margin=100,\n",
    "             **axis_args)\n",
    "\n",
    "bar_y = Axis(label='PyDataATLiens',\n",
    "             scale=sc_y1,\n",
    "             orientation='vertical',\n",
    "             tick_format='0.0f',\n",
    "             label_offset=\"1rem\",\n",
    "             **axis_args)\n",
    "\n",
    "bar_chart = Bars(x=languages,\n",
    "                 y=np.zeros(len(languages)),\n",
    "                 scales={'x': sc_x1, 'y': sc_y1})\n",
    "\n",
    "fig = Figure(axes=[bar_x, bar_y],\n",
    "             marks=[bar_chart],\n",
    "             **plot_args)\n",
    "fig"
   ]
  },
  {
   "cell_type": "code",
   "execution_count": null,
   "metadata": {
    "collapsed": false,
    "nbpresent": {
     "id": "fb8b7633-5ad6-4eca-b9de-40ca19ea7cb4"
    }
   },
   "outputs": [],
   "source": [
    "def language_button(args):\n",
    "    i, language = args\n",
    "    button = Button(description=language, button_style=\"success\", height=\"6rem\")\n",
    "\n",
    "    @button.on_click\n",
    "    def lang_clicked(x):\n",
    "        bar_chart.y[i] += 1\n",
    "        bar_chart.send_state()\n",
    "        scatter_chart.send_state()\n",
    "    \n",
    "    return button\n",
    "HBox(children=tuple(map(language_button, enumerate(languages))))"
   ]
  },
  {
   "cell_type": "code",
   "execution_count": null,
   "metadata": {
    "collapsed": true,
    "nbpresent": {
     "id": "24cbf790-427c-474e-b524-61bb26c0dd64"
    }
   },
   "outputs": [],
   "source": [
    "scatter_chart = Scatter(\n",
    "    x=languages,\n",
    "    y=np.zeros(len(languages)),\n",
    "    scales={'x': sc_x1, 'y': sc_y1})\n",
    "\n",
    "fig2 = Figure(axes=[bar_x, bar_y],\n",
    "              marks=[scatter_chart],\n",
    "              **plot_args)\n",
    "fig2"
   ]
  },
  {
   "cell_type": "code",
   "execution_count": null,
   "metadata": {
    "collapsed": false
   },
   "outputs": [],
   "source": [
    "link((scatter_chart, \"x\"), (bar_chart, \"x\"))\n",
    "link((scatter_chart, \"y\"), (bar_chart, \"y\"))"
   ]
  },
  {
   "cell_type": "markdown",
   "metadata": {
    "nbpresent": {
     "id": "ff888d17-a10e-4635-98ea-e8325bcf9399"
    }
   },
   "source": [
    "## How do I get <span class=\"jupytermoji\"></span> Widgets?"
   ]
  },
  {
   "cell_type": "markdown",
   "metadata": {
    "nbpresent": {
     "id": "00bd22c0-26d2-4d79-84fa-85c9388095d9"
    }
   },
   "source": [
    "```shell\n",
    "conda install ipywidgets\n",
    "```\n",
    "<p style=\"text-align: center;\">or</p>\n",
    "```shell\n",
    "pip install ipywidgets\n",
    "```"
   ]
  },
  {
   "cell_type": "markdown",
   "metadata": {},
   "source": [
    "## `interact`, the gateway"
   ]
  },
  {
   "cell_type": "code",
   "execution_count": null,
   "metadata": {
    "collapsed": false,
    "nbpresent": {
     "id": "123ee2df-e395-4282-8f5b-ec01c01f97a8"
    }
   },
   "outputs": [],
   "source": [
    "from ipywidgets import IntSlider\n",
    "x = IntSlider()\n",
    "x"
   ]
  },
  {
   "cell_type": "code",
   "execution_count": null,
   "metadata": {
    "collapsed": false,
    "nbpresent": {
     "id": "e30e7da0-db2f-4d5d-9783-536714e4f27f"
    }
   },
   "outputs": [],
   "source": [
    "x.value = 12\n",
    "#x.step = 5\n",
    "x.max = 20\n",
    "\n",
    "# @x.observe\n",
    "# def x_changed(change):\n",
    "#     print(x.value)"
   ]
  },
  {
   "cell_type": "markdown",
   "metadata": {},
   "source": [
    "## The Regulars"
   ]
  },
  {
   "cell_type": "code",
   "execution_count": null,
   "metadata": {
    "collapsed": true
   },
   "outputs": [],
   "source": [
    "from ipywidgets import FloatProgress, FloatSlider, FloatText\n",
    "from traitlets import link"
   ]
  },
  {
   "cell_type": "code",
   "execution_count": null,
   "metadata": {
    "collapsed": true,
    "nbpresent": {
     "id": "d2db8fd4-5203-4b98-b68a-eb0a83dbb32b"
    }
   },
   "outputs": [],
   "source": [
    "float_progress = FloatProgress(description=\"FloatProgress\")\n",
    "float_progress"
   ]
  },
  {
   "cell_type": "code",
   "execution_count": null,
   "metadata": {
    "collapsed": false,
    "nbpresent": {
     "id": "00f74bdb-d943-4848-8b21-51539e1d7f1a"
    }
   },
   "outputs": [],
   "source": [
    "float_slider = FloatSlider(description=\"FloatSlider\")\n",
    "float_slider"
   ]
  },
  {
   "cell_type": "code",
   "execution_count": null,
   "metadata": {
    "collapsed": true,
    "nbpresent": {
     "id": "953deecc-ec4d-41dd-93dc-354e1131d5c4"
    }
   },
   "outputs": [],
   "source": [
    "float_text = FloatText(description=\"FloatText\")\n",
    "float_text"
   ]
  },
  {
   "cell_type": "code",
   "execution_count": null,
   "metadata": {
    "collapsed": false
   },
   "outputs": [],
   "source": [
    "link((float_progress, \"value\"), (float_slider, \"value\"))\n",
    "link((float_progress, \"value\"), (float_text, \"value\"))"
   ]
  },
  {
   "cell_type": "markdown",
   "metadata": {
    "nbpresent": {
     "id": "82825fe0-65c1-4d46-82b0-47802c1dc46a"
    }
   },
   "source": [
    "# How do <span class=\"jupytermoji\"></span> Widgets work?"
   ]
  },
  {
   "cell_type": "markdown",
   "metadata": {
    "collapsed": false,
    "nbpresent": {
     "id": "8e061b44-0b77-4160-a053-cd2d2341d2d8"
    }
   },
   "source": [
    "<img src=\"figures/widget_stack.svg?x=3\"/>"
   ]
  },
  {
   "cell_type": "markdown",
   "metadata": {
    "nbpresent": {
     "id": "a8891efd-20ad-4cf7-be64-78d33b8f1994"
    }
   },
   "source": [
    "## 2D Plots: [bqplot](https://github.com/bloomberg/bqplot)"
   ]
  },
  {
   "cell_type": "markdown",
   "metadata": {
    "collapsed": true,
    "nbpresent": {
     "id": "8c2cd05f-ea9d-42fd-aad6-e12c55e5a265"
    }
   },
   "source": [
    "## Maps: [ipyleaflet](https://github.com/ellisonbg/ipyleaflet)"
   ]
  },
  {
   "cell_type": "code",
   "execution_count": null,
   "metadata": {
    "collapsed": true
   },
   "outputs": [],
   "source": [
    "from ipyleaflet import Map, Marker, DrawControl"
   ]
  },
  {
   "cell_type": "code",
   "execution_count": null,
   "metadata": {
    "collapsed": false,
    "nbpresent": {
     "id": "695a1899-8452-4386-9e1e-272b40362854"
    }
   },
   "outputs": [],
   "source": [
    "general_assembly = [33.7725, -84.3665]\n",
    "m = Map(center=general_assembly, zoom=18)\n",
    "m"
   ]
  },
  {
   "cell_type": "code",
   "execution_count": null,
   "metadata": {
    "collapsed": true
   },
   "outputs": [],
   "source": [
    "dc = DrawControl()\n",
    "\n",
    "@dc.on_draw\n",
    "def handle_draw(self, action, geo_json):\n",
    "    pas\n",
    "\n",
    "m += dc"
   ]
  },
  {
   "cell_type": "code",
   "execution_count": null,
   "metadata": {
    "collapsed": false,
    "nbpresent": {
     "id": "d9028420-e453-495c-85d2-fd847e453338"
    }
   },
   "outputs": [],
   "source": [
    "where_are_we = Button(description=\"Where?\", button_style=\"success\", height=\"6rem\")\n",
    "@where_are_we.on_click\n",
    "def mark_ga(_):\n",
    "    m.add_layer(Marker(location=general_assembly, draggable=True))\n",
    "where_are_we"
   ]
  },
  {
   "cell_type": "markdown",
   "metadata": {
    "nbpresent": {
     "id": "de272c46-9546-43cb-a92f-a2a918c2123f"
    }
   },
   "source": [
    "## Asimov's Other Law?"
   ]
  },
  {
   "cell_type": "markdown",
   "metadata": {
    "nbpresent": {
     "id": "b6a864b9-2f17-49c7-872f-f528b07d81a4"
    }
   },
   "source": [
    "> _For every new good idea you have, there are a hundred, **ten thousand foolish ones**, which you naturally do not care to display._\n",
    "\n",
    "### Isaac Asimov — _[On Creativity](https://www.technologyreview.com/s/531911/isaac-asimov-asks-how-do-people-get-new-ideas/) (1959)_"
   ]
  },
  {
   "cell_type": "markdown",
   "metadata": {
    "nbpresent": {
     "id": "45f03f63-fa79-4c6a-b4bc-4bec7521188c"
    }
   },
   "source": [
    "## Kata: Scroll a big DataFrame"
   ]
  },
  {
   "cell_type": "code",
   "execution_count": null,
   "metadata": {
    "collapsed": false,
    "nbpresent": {
     "id": "1ba8e2fe-9a48-4abd-b677-b060486711aa"
    }
   },
   "outputs": [],
   "source": [
    "import pandas as pd\n",
    "from ipywidgets import IntSlider, VBox, HTML\n",
    "\n",
    "# this could be whatever\n",
    "page_size = 15\n",
    "df = pd.DataFrame.from_dict({\"value\": range(100000)})\n",
    "\n",
    "slider = IntSlider(description=\"page\",\n",
    "                   max=len(df) / page_size,\n",
    "                   width=\"100%\")\n",
    "frame_view = HTML()\n",
    "\n",
    "@slider.observe\n",
    "def slider_changed(x):\n",
    "    v = slider.value * page_size\n",
    "    frame_view.value = df[v:v + page_size].to_html(\n",
    "        classes=\"table table-condensed table-striped\")\n",
    "\n",
    "VBox(children=[slider, frame_view])"
   ]
  },
  {
   "cell_type": "code",
   "execution_count": null,
   "metadata": {
    "collapsed": false
   },
   "outputs": [],
   "source": [
    "%%html\n",
    "<style>\n",
    "    svg.bqplot .plotarea_background {\n",
    "        fill: white;\n",
    "        opacity: 0.1;\n",
    "    }\n",
    "    .widget-button{\n",
    "        font-size: 3rem;\n",
    "    }\n",
    "    svg.bqplot .axis text.axislabel,\n",
    "    svg.bqplot .axis tspan.axislabel,\n",
    "    svg.bqplot .axis .tick text{\n",
    "        font-family: \"Josefin Slab\";\n",
    "        font-size: 2.5rem;\n",
    "    }\n",
    "    svg.bqplot .axis .tick text{\n",
    "        font-size: 1.5rem;\n",
    "    }\n",
    "    #notebook svg.bqplot .stick, svg.bqplot .zeroLine,\n",
    "    #notebook svg.bqplot .axis path,\n",
    "    #notebook svg.bqplot .axis line {\n",
    "        opacity: 0.2;\n",
    "    }\n",
    "    \n",
    "    .jupytermoji {\n",
    "        background-image: url(./assets/main-logo.svg);\n",
    "        display: inline-block;\n",
    "        width: 1.5em;\n",
    "        height: 1.5em;\n",
    "        background-size: contain;\n",
    "        background-repeat: no-repeat;\n",
    "        vertical-align: middle;\n",
    "    }\n",
    "    \n",
    "    .nbp-present td,\n",
    "    .nbp-present th,\n",
    "    .nbp-present .widget-label,\n",
    "    .nbp-present .widget-readout{\n",
    "        font-size: 3rem;\n",
    "    }\n",
    "    .nbp-present .table-striped > tbody > tr:nth-of-type(odd) {\n",
    "        background-color: #000;\n",
    "    }\n",
    "    .widget-hslider{\n",
    "        width: auto;\n",
    "    }\n",
    "    \n",
    "    .nbp-present .output_area pre {\n",
    "        color: white;\n",
    "    }\n",
    "    .nbp-present .widget-hbox .widget-label {\n",
    "        max-width: none;\n",
    "        min-width: auto;\n",
    "        width: auto;\n",
    "        font-size: 3rem;\n",
    "    }\n",
    "    \n",
    "    .nbp-present .form-control {\n",
    "        font-size: 3rem;\n",
    "    }\n",
    "</style>"
   ]
  },
  {
   "cell_type": "code",
   "execution_count": null,
   "metadata": {
    "collapsed": true
   },
   "outputs": [],
   "source": []
  }
 ],
 "metadata": {
  "kernelspec": {
   "display_name": "Python 3",
   "language": "python",
   "name": "python3"
  },
  "language_info": {
   "codemirror_mode": {
    "name": "ipython",
    "version": 3
   },
   "file_extension": ".py",
   "mimetype": "text/x-python",
   "name": "python",
   "nbconvert_exporter": "python",
   "pygments_lexer": "ipython3",
   "version": "3.5.2"
  },
  "nbpresent": {
   "slides": {
    "slide-all-the-floats": {
     "id": "slide-all-the-floats",
     "layout": "grid",
     "prev": "slide-get-widgets",
     "regions": {
      "152c3dfc-9490-48c7-8e06-53e57f6d3ab7": {
       "attrs": {
        "height": 0.16666666666666666,
        "pad": 0.01,
        "treemap:weight": 1,
        "width": 0.3333333333333333,
        "x": 0.25,
        "y": 0.08333333333333333
       },
       "content": {
        "cell": "953deecc-ec4d-41dd-93dc-354e1131d5c4",
        "part": "widgets"
       },
       "id": "152c3dfc-9490-48c7-8e06-53e57f6d3ab7"
      },
      "2a7930f8-cc87-4f77-b43a-b7c71891a876": {
       "attrs": {
        "height": 0.16666666666666666,
        "pad": 0.01,
        "treemap:weight": 1,
        "width": 0.3333333333333333,
        "x": 0.25,
        "y": 0.5833333333333334
       },
       "content": {
        "cell": "d2db8fd4-5203-4b98-b68a-eb0a83dbb32b",
        "part": "widgets"
       },
       "id": "2a7930f8-cc87-4f77-b43a-b7c71891a876"
      },
      "ece494ed-f66f-49e1-abd3-db907334ef53": {
       "attrs": {
        "height": 0.16666666666666666,
        "pad": 0.01,
        "treemap:weight": 1,
        "width": 0.3333333333333333,
        "x": 0.25,
        "y": 0.3333333333333333
       },
       "content": {
        "cell": "00f74bdb-d943-4848-8b21-51539e1d7f1a",
        "part": "widgets"
       },
       "id": "ece494ed-f66f-49e1-abd3-db907334ef53"
      }
     }
    },
    "slide-blueprint-3": {
     "id": "slide-blueprint-3",
     "prev": "slide-float-slider-basic",
     "regions": {
      "bd279458-3901-4e5d-a64d-1f4359e8267e": {
       "attrs": {
        "height": 1,
        "width": 1,
        "x": 0,
        "y": 0
       },
       "content": {
        "cell": "8e061b44-0b77-4160-a053-cd2d2341d2d8",
        "part": "source"
       },
       "id": "bd279458-3901-4e5d-a64d-1f4359e8267e"
      }
     }
    },
    "slide-bqplot": {
     "id": "slide-bqplot",
     "layout": "grid",
     "prev": "slide-blueprint-3",
     "regions": {
      "5600babc-bb02-472a-a0bb-26faa38e008e": {
       "attrs": {
        "height": 0.9166666666666666,
        "pad": 0.01,
        "width": 0.5,
        "x": 0,
        "y": 0.08333333333333333
       },
       "content": {
        "cell": "24cbf790-427c-474e-b524-61bb26c0dd64",
        "part": "widgets"
       },
       "id": "5600babc-bb02-472a-a0bb-26faa38e008e"
      },
      "8e3023c7-3c55-4d18-8049-8d8f39d689d4": {
       "attrs": {
        "height": 0.16666666666666666,
        "pad": 0.01,
        "width": 0.5,
        "x": 0.5,
        "y": 0.8333333333333334
       },
       "content": {
        "cell": "1c6b7128-5db3-463f-a031-936458c45ccf",
        "part": "outputs"
       },
       "id": "8e3023c7-3c55-4d18-8049-8d8f39d689d4"
      },
      "9e6e025f-afeb-46f0-a204-0d8eb6daedd9": {
       "attrs": {
        "height": 0.8333333333333334,
        "pad": 0.01,
        "width": 0.5,
        "x": 0.4999890459081836,
        "y": 0
       },
       "content": {
        "cell": "24cbf790-427c-474e-b524-61bb26c0dd64",
        "part": "source"
       },
       "id": "9e6e025f-afeb-46f0-a204-0d8eb6daedd9"
      },
      "f641341d-7299-4d65-89fa-a45f8ed325be": {
       "attrs": {
        "height": 0.08333333333333333,
        "pad": 0.01,
        "width": 0.8333333333333334,
        "x": 0,
        "y": 0
       },
       "content": {
        "cell": "a8891efd-20ad-4cf7-be64-78d33b8f1994",
        "part": "source"
       },
       "id": "f641341d-7299-4d65-89fa-a45f8ed325be"
      }
     },
     "theme": null
    },
    "slide-float-slider-basic": {
     "id": "slide-float-slider-basic",
     "layout": "grid",
     "prev": "slide-how-work-2",
     "regions": {
      "1aa8dcdb-2c1c-494a-b4cf-41d1c980079c": {
       "attrs": {
        "height": 0.16666666666666666,
        "pad": 0.01,
        "treemap:weight": 1,
        "width": 0.5,
        "x": 0.5,
        "y": 0
       },
       "content": {
        "cell": "123ee2df-e395-4282-8f5b-ec01c01f97a8",
        "part": "source"
       },
       "id": "1aa8dcdb-2c1c-494a-b4cf-41d1c980079c"
      },
      "3c6d0883-6c2a-42bd-93e9-2f873656d3ff": {
       "attrs": {
        "height": 0.3333333333333333,
        "pad": 0.01,
        "width": 0.5,
        "x": 0.5,
        "y": 0.4166666666666667
       },
       "content": {
        "cell": "e30e7da0-db2f-4d5d-9783-536714e4f27f",
        "part": "source"
       },
       "id": "3c6d0883-6c2a-42bd-93e9-2f873656d3ff"
      },
      "7f81ff17-8540-4c55-9fd8-85d5175ac024": {
       "attrs": {
        "height": 0.16666666666666666,
        "pad": 0.01,
        "width": 0.499500998003992,
        "x": 0.5,
        "y": 0.8333333333333334
       },
       "content": {
        "cell": "123ee2df-e395-4282-8f5b-ec01c01f97a8",
        "part": "outputs"
       },
       "id": "7f81ff17-8540-4c55-9fd8-85d5175ac024"
      },
      "a1d9137d-e1e1-473a-9745-d8f444a4eb0d": {
       "attrs": {
        "height": 1,
        "pad": 0.01,
        "treemap:weight": 1,
        "width": 0.4166666666666667,
        "x": 0.08333333333333333,
        "y": 0
       },
       "content": {
        "cell": "123ee2df-e395-4282-8f5b-ec01c01f97a8",
        "part": "widgets"
       },
       "id": "a1d9137d-e1e1-473a-9745-d8f444a4eb0d"
      },
      "f66bb9c8-6b4a-4a0c-ab29-6cb5fb11cdb4": {
       "attrs": {
        "height": 0.25,
        "pad": 0.01,
        "width": 0.5,
        "x": 0.5,
        "y": 0.16666666666666666
       },
       "content": {
        "cell": "123ee2df-e395-4282-8f5b-ec01c01f97a8",
        "part": "outputs"
       },
       "id": "f66bb9c8-6b4a-4a0c-ab29-6cb5fb11cdb4"
      }
     }
    },
    "slide-get-widgets": {
     "id": "slide-get-widgets",
     "layout": "grid",
     "prev": "slide-isaac-1",
     "regions": {
      "14d8fc58-aa66-474b-9756-43d911d6c563": {
       "attrs": {
        "height": 0.16666666666666666,
        "pad": 0.01,
        "treemap:weight": 1,
        "width": 0.5,
        "x": 0,
        "y": 0
       },
       "content": {
        "cell": "ff888d17-a10e-4635-98ea-e8325bcf9399",
        "part": "source"
       },
       "id": "14d8fc58-aa66-474b-9756-43d911d6c563"
      },
      "e6e708c5-a3ed-4c12-9b9a-e247a9783e9d": {
       "attrs": {
        "height": 0.4166666666666667,
        "pad": 0.01,
        "treemap:weight": 1,
        "width": 0.3328343313373254,
        "x": 0.3333333333333333,
        "y": 0.3333333333333333
       },
       "content": {
        "cell": "00bd22c0-26d2-4d79-84fa-85c9388095d9",
        "part": "source"
       },
       "id": "e6e708c5-a3ed-4c12-9b9a-e247a9783e9d"
      }
     }
    },
    "slide-how-work-2": {
     "id": "slide-how-work-2",
     "layout": "grid",
     "prev": "slide-all-the-floats",
     "regions": {
      "c0ef5296-9f89-40d6-970f-35f65796e556": {
       "attrs": {
        "height": 0.25,
        "pad": 0.01,
        "width": 0.8333333333333334,
        "x": 0.08333333333333333,
        "y": 0.3333333333333333
       },
       "content": {
        "cell": "82825fe0-65c1-4d46-82b0-47802c1dc46a",
        "part": "source"
       },
       "id": "c0ef5296-9f89-40d6-970f-35f65796e556"
      }
     }
    },
    "slide-intro-0": {
     "id": "slide-intro-0",
     "layout": "grid",
     "prev": null,
     "regions": {
      "1bd09c73-d977-44c6-9e4a-b592640ed82f": {
       "attrs": {
        "height": 0.3333333333333333,
        "pad": 0.01,
        "width": 1,
        "x": 0.5833333333333334,
        "y": -0.08333333333333333
       },
       "content": {
        "cell": "3889f27a-8c92-408c-b720-bb9e295df3a3",
        "part": "source"
       },
       "id": "1bd09c73-d977-44c6-9e4a-b592640ed82f"
      },
      "68c986a3-5f41-4db8-85cf-303275433075": {
       "attrs": {
        "height": 0.4166666666666667,
        "pad": 0.01,
        "width": 0.5,
        "x": 0.08333333333333333,
        "y": 0.16655577733422045
       },
       "content": {
        "cell": "a882044f-e4bf-4bf0-8ca9-b470dd347e8d",
        "part": "source"
       },
       "id": "68c986a3-5f41-4db8-85cf-303275433075"
      },
      "6e281b1c-bafe-4c2a-91f1-c2e7a1f1ae4e": {
       "attrs": {
        "height": 0.08333333333333333,
        "pad": 0.01,
        "width": 0.8333333333333334,
        "x": 0.08233532934131736,
        "y": 0.75
       },
       "content": {
        "cell": "5485b472-f71d-4eb9-b299-be7f675259da",
        "part": "source"
       },
       "id": "6e281b1c-bafe-4c2a-91f1-c2e7a1f1ae4e"
      }
     }
    },
    "slide-ipyleaflet": {
     "id": "slide-ipyleaflet",
     "layout": "grid",
     "prev": "slide-bqplot",
     "regions": {
      "a3cdf29a-1f4c-416e-82e9-de75001cfc66": {
       "attrs": {
        "height": 0.8333333333333334,
        "pad": 0.01,
        "width": 1,
        "x": 0,
        "y": 0.16666666666666666
       },
       "content": {
        "cell": "695a1899-8452-4386-9e1e-272b40362854",
        "part": "widgets"
       },
       "id": "a3cdf29a-1f4c-416e-82e9-de75001cfc66"
      },
      "d2627534-b1b1-4e63-b413-12529f8096ab": {
       "attrs": {
        "height": 0.16666666666666666,
        "pad": 0.01,
        "width": 0.8333333333333334,
        "x": 0,
        "y": 0
       },
       "content": {
        "cell": "8c2cd05f-ea9d-42fd-aad6-e12c55e5a265",
        "part": "source"
       },
       "id": "d2627534-b1b1-4e63-b413-12529f8096ab"
      },
      "e5bc1b11-3b16-4b27-b779-957bb33971e8": {
       "attrs": {
        "height": 0.16666666666666666,
        "pad": 0.01,
        "width": 0.16666666666666666,
        "x": 0.75,
        "y": 0
       },
       "content": {
        "cell": "d9028420-e453-495c-85d2-fd847e453338",
        "part": "widgets"
       },
       "id": "e5bc1b11-3b16-4b27-b779-957bb33971e8"
      }
     }
    },
    "slide-isaac-1": {
     "id": "slide-isaac-1",
     "layout": "grid",
     "prev": "slide-who-are-you",
     "regions": {
      "2b5ef6e1-e69b-4ef0-9330-b0f07b5d54c2": {
       "attrs": {
        "height": 0.8333333333333334,
        "pad": 0.01,
        "width": 0.5833333333333334,
        "x": 0.16666666666666666,
        "y": 0.16666666666666666
       },
       "content": {
        "cell": "b6a864b9-2f17-49c7-872f-f528b07d81a4",
        "part": "source"
       },
       "id": "2b5ef6e1-e69b-4ef0-9330-b0f07b5d54c2"
      },
      "2ee45e70-8339-4b00-85c8-aa2b6854470b": {
       "attrs": {
        "height": 0.08333333333333333,
        "pad": 0.01,
        "width": 0.8333333333333334,
        "x": 0,
        "y": 0
       },
       "content": {
        "cell": "de272c46-9546-43cb-a92f-a2a918c2123f",
        "part": "source"
       },
       "id": "2ee45e70-8339-4b00-85c8-aa2b6854470b"
      }
     }
    },
    "slide-kata-scroll": {
     "id": "slide-kata-scroll",
     "layout": "grid",
     "prev": "slide-ipyleaflet",
     "regions": {
      "71594c76-29ee-4f6e-b0ae-c438e2cd93a6": {
       "attrs": {
        "height": 0.08333333333333333,
        "pad": 0.01,
        "width": 0.8333333333333334,
        "x": 0,
        "y": 0
       },
       "content": {
        "cell": "45f03f63-fa79-4c6a-b4bc-4bec7521188c",
        "part": "source"
       },
       "id": "71594c76-29ee-4f6e-b0ae-c438e2cd93a6"
      },
      "84cedd8c-4361-46ab-a99e-894e41eec124": {
       "attrs": {
        "height": 0.08333333333333333,
        "pad": 0.01,
        "width": 0.4166666666666667,
        "x": 0.5,
        "y": 0
       },
       "content": null,
       "id": "84cedd8c-4361-46ab-a99e-894e41eec124"
      },
      "c7b6fe30-57b1-4cd6-8f0a-b95c09927eee": {
       "attrs": {
        "height": 0.9166666666666666,
        "pad": 0.01,
        "width": 0.4166666666666667,
        "x": 0,
        "y": 0.08333333333333333
       },
       "content": {
        "cell": "1ba8e2fe-9a48-4abd-b677-b060486711aa",
        "part": "widgets"
       },
       "id": "c7b6fe30-57b1-4cd6-8f0a-b95c09927eee"
      },
      "e799f971-fb7a-4780-9459-9069c10b5c83": {
       "attrs": {
        "height": 0.9166666666666666,
        "pad": 0.01,
        "width": 0.5,
        "x": 0.5,
        "y": 0.08333333333333333
       },
       "content": {
        "cell": "1ba8e2fe-9a48-4abd-b677-b060486711aa",
        "part": "source"
       },
       "id": "e799f971-fb7a-4780-9459-9069c10b5c83"
      }
     },
     "theme": null
    },
    "slide-who-are-you": {
     "id": "slide-who-are-you",
     "layout": "grid",
     "prev": "slide-intro-0",
     "regions": {
      "0db651cb-1f71-4c29-89e4-c530c176c8be": {
       "attrs": {
        "height": 0.9166666666666666,
        "pad": 0.01,
        "width": 0.5,
        "x": 0,
        "y": 0.08333333333333333
       },
       "content": {
        "cell": "1c6b7128-5db3-463f-a031-936458c45ccf",
        "part": "widgets"
       },
       "id": "0db651cb-1f71-4c29-89e4-c530c176c8be"
      },
      "4fae0c7a-895a-456c-8c73-1f4febd4cc0d": {
       "attrs": {
        "height": 0.08333333333333333,
        "pad": 0.01,
        "width": 0.4166666666666667,
        "x": 0.5,
        "y": 0
       },
       "content": {
        "cell": "fb8b7633-5ad6-4eca-b9de-40ca19ea7cb4",
        "part": "widgets"
       },
       "id": "4fae0c7a-895a-456c-8c73-1f4febd4cc0d"
      },
      "805b23de-1215-4fdb-b232-28e3f155d459": {
       "attrs": {
        "height": 0.9166666666666666,
        "pad": 0.01,
        "width": 0.5,
        "x": 0.5,
        "y": 0.08333333333333333
       },
       "content": {
        "cell": "24cbf790-427c-474e-b524-61bb26c0dd64",
        "part": "widgets"
       },
       "id": "805b23de-1215-4fdb-b232-28e3f155d459"
      },
      "cf6776f7-9788-4472-a2bd-a5a471ed3a93": {
       "attrs": {
        "height": 0.08333333333333333,
        "pad": 0.01,
        "width": 0.8333333333333334,
        "x": 0,
        "y": 0
       },
       "content": {
        "cell": "ea979e83-6e36-4edd-b157-cde5f05b253e",
        "part": "source"
       },
       "id": "cf6776f7-9788-4472-a2bd-a5a471ed3a93"
      }
     },
     "theme": null
    }
   },
   "themes": {
    "default": "f8e22b55-4ee8-4dd2-a736-da13bfa4cdfa",
    "theme": {
     "f8e22b55-4ee8-4dd2-a736-da13bfa4cdfa": {
      "backgrounds": {
       "backgroundColor": {
        "background-color": "backgroundColor",
        "id": "backgroundColor"
       }
      },
      "id": "f8e22b55-4ee8-4dd2-a736-da13bfa4cdfa",
      "palette": {
       "backgroundColor": {
        "id": "backgroundColor",
        "rgb": [
         43,
         43,
         43
        ]
       },
       "headingColor": {
        "id": "headingColor",
        "rgb": [
         238,
         238,
         238
        ]
       },
       "linkColor": {
        "id": "linkColor",
        "rgb": [
         19,
         218,
         236
        ]
       },
       "mainColor": {
        "id": "mainColor",
        "rgb": [
         238,
         238,
         238
        ]
       }
      },
      "rules": {
       "a": {
        "color": "linkColor",
        "font-family": "Josefin Slab"
       },
       "h1": {
        "color": "headingColor",
        "font-family": "Josefin Slab",
        "font-size": 10
       },
       "h2": {
        "color": "headingColor",
        "font-family": "Josefin Slab",
        "font-size": 5
       },
       "h3": {
        "color": "headingColor",
        "font-family": "Josefin Slab",
        "font-size": 3.75
       },
       "h4": {
        "font-family": "Inconsolata",
        "font-size": 2
       },
       "h5": {
        "color": "headingColor",
        "font-family": "Josefin Slab"
       },
       "h6": {
        "color": "headingColor",
        "font-family": "Josefin Slab"
       },
       "h7": {
        "color": "headingColor",
        "font-family": "Josefin Slab"
       },
       "li": {
        "color": "mainColor",
        "font-family": "Josefin Slab",
        "font-size": 5
       },
       "p": {
        "color": "mainColor",
        "font-family": "Josefin Slab",
        "font-size": 5
       },
       "pre": {
        "font-family": "Inconsolata",
        "font-size": 2.5
       }
      },
      "text-base": {
       "color": "mainColor",
       "font-family": "Josefin Slab",
       "font-size": 5
      }
     }
    }
   }
  },
  "widgets": {
   "state": {
    "00258ed71f5749c88773d1ca6ed2e2a1": {
     "views": [
      {
       "cell_index": 11
      }
     ]
    },
    "1edd345efdfa49d6a36cc3f11df93ecf": {
     "views": [
      {
       "cell_index": 35
      }
     ]
    },
    "355e166e044145c1bf53eaa8a02b3c2b": {
     "views": [
      {
       "cell_index": 20
      }
     ]
    },
    "480c15d927a34aa5a09ec2aa919f33a9": {
     "views": [
      {
       "cell_index": 10
      }
     ]
    },
    "4e9f703e09a34812acaf559dcd93825e": {
     "views": [
      {
       "cell_index": 21
      }
     ]
    },
    "558594cbc5424e3a8a8e4d9e6e5f23ec": {
     "views": [
      {
       "cell_index": 31
      }
     ]
    },
    "921e63d2e13643a2b961b9f962602a0f": {
     "views": [
      {
       "cell_index": 16
      }
     ]
    },
    "b9a6d1bc472f4f96811d81916c779132": {
     "views": [
      {
       "cell_index": 9
      }
     ]
    },
    "c056618aa1ee43199ac52333a26f3cdc": {
     "views": [
      {
       "cell_index": 4
      }
     ]
    },
    "e8a48cb9d61b40888ae220302a119c9f": {
     "views": [
      {
       "cell_index": 29
      }
     ]
    },
    "e9dc9d3553094063b2e604422076bb03": {
     "views": [
      {
       "cell_index": 22
      }
     ]
    }
   },
   "version": "1.2.0"
  }
 },
 "nbformat": 4,
 "nbformat_minor": 0
}
